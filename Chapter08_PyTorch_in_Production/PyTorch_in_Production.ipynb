{
  "nbformat": 4,
  "nbformat_minor": 0,
  "metadata": {
    "colab": {
      "name": "PyTorch_in_Production.ipynb",
      "provenance": [],
      "collapsed_sections": []
    },
    "kernelspec": {
      "name": "python3",
      "display_name": "Python 3"
    },
    "language_info": {
      "name": "python"
    }
  },
  "cells": [
    {
      "cell_type": "markdown",
      "metadata": {
        "id": "5Q53AwAjnsV3"
      },
      "source": [
        "This chapter introduces how to apply PyTorch models for production usage. Some of the contents have running environment requirements and are not suitable for Google Colab. We are mainly introducing the ideas in this notebook."
      ]
    },
    {
      "cell_type": "markdown",
      "metadata": {
        "id": "8T9KLQ-JPthT"
      },
      "source": [
        "Flask is framework that can create web service with Python. Now let's try building a neural network service based on Flask."
      ]
    },
    {
      "cell_type": "code",
      "metadata": {
        "colab": {
          "base_uri": "https://localhost:8080/"
        },
        "id": "ABstbaq3rSfm",
        "outputId": "230c7a0a-b159-4b3f-80cb-8cc3b83c4180"
      },
      "source": [
        "# check https://medium.com/@kshitijvijay271199/flask-on-google-colab-f6525986797b \n",
        "# and https://www.geeksforgeeks.org/how-to-run-flask-app-on-google-colab/ for \n",
        "# details about using Flask in Google Colab\n",
        "!pip install flask-ngrok"
      ],
      "execution_count": null,
      "outputs": [
        {
          "output_type": "stream",
          "text": [
            "Collecting flask-ngrok\n",
            "  Downloading flask_ngrok-0.0.25-py3-none-any.whl (3.1 kB)\n",
            "Requirement already satisfied: requests in /usr/local/lib/python3.7/dist-packages (from flask-ngrok) (2.23.0)\n",
            "Requirement already satisfied: Flask>=0.8 in /usr/local/lib/python3.7/dist-packages (from flask-ngrok) (1.1.4)\n",
            "Requirement already satisfied: Jinja2<3.0,>=2.10.1 in /usr/local/lib/python3.7/dist-packages (from Flask>=0.8->flask-ngrok) (2.11.3)\n",
            "Requirement already satisfied: click<8.0,>=5.1 in /usr/local/lib/python3.7/dist-packages (from Flask>=0.8->flask-ngrok) (7.1.2)\n",
            "Requirement already satisfied: Werkzeug<2.0,>=0.15 in /usr/local/lib/python3.7/dist-packages (from Flask>=0.8->flask-ngrok) (1.0.1)\n",
            "Requirement already satisfied: itsdangerous<2.0,>=0.24 in /usr/local/lib/python3.7/dist-packages (from Flask>=0.8->flask-ngrok) (1.1.0)\n",
            "Requirement already satisfied: MarkupSafe>=0.23 in /usr/local/lib/python3.7/dist-packages (from Jinja2<3.0,>=2.10.1->Flask>=0.8->flask-ngrok) (2.0.1)\n",
            "Requirement already satisfied: urllib3!=1.25.0,!=1.25.1,<1.26,>=1.21.1 in /usr/local/lib/python3.7/dist-packages (from requests->flask-ngrok) (1.24.3)\n",
            "Requirement already satisfied: certifi>=2017.4.17 in /usr/local/lib/python3.7/dist-packages (from requests->flask-ngrok) (2021.5.30)\n",
            "Requirement already satisfied: idna<3,>=2.5 in /usr/local/lib/python3.7/dist-packages (from requests->flask-ngrok) (2.10)\n",
            "Requirement already satisfied: chardet<4,>=3.0.2 in /usr/local/lib/python3.7/dist-packages (from requests->flask-ngrok) (3.0.4)\n",
            "Installing collected packages: flask-ngrok\n",
            "Successfully installed flask-ngrok-0.0.25\n"
          ],
          "name": "stdout"
        }
      ]
    },
    {
      "cell_type": "markdown",
      "metadata": {
        "id": "HDaHr8VA4_8K"
      },
      "source": [
        "Defining the model:"
      ]
    },
    {
      "cell_type": "code",
      "metadata": {
        "id": "pNObW6esrkQO"
      },
      "source": [
        "from torchvision import models\n",
        "import torch.nn as nn\n",
        "from torchvision import transforms\n",
        "\n",
        "CatFishClasses = [\"cat\", \"fish\"]\n",
        "\n",
        "CatFishModel = models.resnet50()\n",
        "CatFishModel.fc = nn.Sequential(\n",
        "    nn.Linear(CatFishModel.fc.in_features, 500),\n",
        "    nn.ReLU(),\n",
        "    nn.Dropout(),\n",
        "    nn.Linear(500, 2)\n",
        ")\n",
        "\n",
        "img_transforms = transforms.Compose([\n",
        "    transforms.Resize((64, 64)), # resize image\n",
        "    transforms.ToTensor(), # store image data in tensor\n",
        "    transforms.Normalize(mean = [0.485, 0.456, 0.406], std = [0.229, 0.224, 0.225])\n",
        "    # the above normalization follows distribution of ImageNet dataset\n",
        "    ])\n"
      ],
      "execution_count": null,
      "outputs": []
    },
    {
      "cell_type": "markdown",
      "metadata": {
        "id": "oT9ceocy5EEx"
      },
      "source": [
        "Now starting the Flask service:"
      ]
    },
    {
      "cell_type": "code",
      "metadata": {
        "colab": {
          "base_uri": "https://localhost:8080/"
        },
        "id": "CxTiylS24_YS",
        "outputId": "9ec937f2-25d4-4daf-bb12-ee0908389a9c"
      },
      "source": [
        "from flask import Flask, jsonify\n",
        "from torchvision import transforms\n",
        "from flask_ngrok import run_with_ngrok\n",
        "from flask import request\n",
        "from PIL import Image\n",
        "import torch.nn.functional as F\n",
        "import urllib.request\n",
        "import torch\n",
        "\n",
        "app = Flask(__name__)\n",
        "run_with_ngrok(app)\n",
        "@app.route(\"/\")\n",
        "def status():\n",
        "    return jsonify({\"status\" : \"hahaha\"})\n",
        "\n",
        "@app.route(\"/predict\", methods = ['GET', 'POST'])\n",
        "def predict():\n",
        "    img_url = request.args.get(\"image_url\")\n",
        "    urllib.request.urlretrieve(img_url, \"temp_img\")\n",
        "    img = Image.open(\"temp_img\")\n",
        "    img = img_transforms(img)\n",
        "    img = torch.unsqueeze(img, 0)\n",
        "    CatFishModel.eval()\n",
        "    prediction = F.softmax(CatFishModel(img), dim = 1)\n",
        "    predicted_class = CatFishClasses[prediction.argmax()]\n",
        "    return jsonify({\"image\" : img_url, \"prediction\" : predicted_class})\n",
        "\n",
        "# check the ngrok web link in the output, and you should see the status returned\n",
        "app.run()"
      ],
      "execution_count": null,
      "outputs": [
        {
          "output_type": "stream",
          "text": [
            " * Serving Flask app \"__main__\" (lazy loading)\n",
            " * Environment: production\n",
            "\u001b[31m   WARNING: This is a development server. Do not use it in a production deployment.\u001b[0m\n",
            "\u001b[2m   Use a production WSGI server instead.\u001b[0m\n",
            " * Debug mode: off\n"
          ],
          "name": "stdout"
        },
        {
          "output_type": "stream",
          "text": [
            " * Running on http://127.0.0.1:5000/ (Press CTRL+C to quit)\n"
          ],
          "name": "stderr"
        },
        {
          "output_type": "stream",
          "text": [
            " * Running on http://8856a1622fed.ngrok.io\n",
            " * Traffic stats available on http://127.0.0.1:4040\n"
          ],
          "name": "stdout"
        }
      ]
    },
    {
      "cell_type": "markdown",
      "metadata": {
        "id": "J1UDSBd2CG3S"
      },
      "source": [
        "Install a postman and send a GET request with an image website, like http://farm2.static.flickr.com/1245/1259825348_6a2aa94e8d.jpg.\n",
        "For example, if the flask website is http://f1e9ea4c7c0a.ngrok.io,\n",
        "then in Postman, send http://f1e9ea4c7c0a.ngrok.io/predict with a \n",
        "key = \"image_url\" and \"value\" = \"http://farm2.static.flickr.com/1245/1259825348_6a2aa94e8d.jpg\".\n",
        "You can also try to fine tune the model to get a better prediction accuracy."
      ]
    },
    {
      "cell_type": "markdown",
      "metadata": {
        "id": "RldIJePKnQwU"
      },
      "source": [
        "In this chapter, some contents are about Docker, Cloud Service and Kubernetes, which is not well supported on Google Colab or requires a charged cloud service. Check https://stackoverflow.com/a/61275992 and https://colab.research.google.com/github/tensorflow/federated/blob/master/docs/tutorials/high_performance_simulation_with_kubernetes.ipynb for more info. We will focus on the PyTorch study here and skip the cloud deployment part. "
      ]
    },
    {
      "cell_type": "markdown",
      "metadata": {
        "id": "zxL6pBwan0S8"
      },
      "source": [
        "In the following we are going to learn TorchScript. It's a new model representation script provided by PyTorch, with the advantages of performance optimization, stablility and flexibility."
      ]
    },
    {
      "cell_type": "code",
      "metadata": {
        "id": "oJSXCcmvnz9x",
        "colab": {
          "base_uri": "https://localhost:8080/"
        },
        "outputId": "c3f1643f-dba4-44a5-a76b-297683d8ea6a"
      },
      "source": [
        "import torch\n",
        "from torchvision import models\n",
        "\n",
        "my_model = models.AlexNet()\n",
        "traced_model = torch.jit.trace(my_model, torch.rand(1, 3, 224, 224))"
      ],
      "execution_count": null,
      "outputs": [
        {
          "output_type": "stream",
          "text": [
            "/usr/local/lib/python3.7/dist-packages/torch/nn/functional.py:718: UserWarning: Named tensors and all their associated APIs are an experimental feature and subject to change. Please do not use them for anything important until they are released as stable. (Triggered internally at  /pytorch/c10/core/TensorImpl.h:1156.)\n",
            "  return torch.max_pool2d(input, kernel_size, stride, padding, dilation, ceil_mode)\n",
            "/usr/local/lib/python3.7/dist-packages/torch/jit/_trace.py:985: TracerWarning: Output nr 1. of the traced function does not match the corresponding output of the Python function. Detailed error:\n",
            "With rtol=1e-05 and atol=1e-05, found 999 element(s) (out of 1000) whose difference(s) exceeded the margin of error (including 0 nan comparisons). The greatest difference was 0.012500333599746227 (0.0003694472834467888 vs. 0.012869780883193016), which occurred at index (0, 406).\n",
            "  _module_class,\n"
          ],
          "name": "stderr"
        }
      ]
    },
    {
      "cell_type": "code",
      "metadata": {
        "colab": {
          "base_uri": "https://localhost:8080/"
        },
        "id": "-4gkyWnCyQ7V",
        "outputId": "3f0a7a96-eac7-420f-fe67-c202d45d55f3"
      },
      "source": [
        "from google.colab import drive\n",
        "drive.mount('/content/drive')\n",
        "# make a directory named libtorch_test under ./drive/MyDrive,\n",
        "# which will be used later"
      ],
      "execution_count": null,
      "outputs": [
        {
          "output_type": "stream",
          "text": [
            "Mounted at /content/drive\n"
          ],
          "name": "stdout"
        }
      ]
    },
    {
      "cell_type": "code",
      "metadata": {
        "id": "EYjH05wb5bLJ",
        "colab": {
          "base_uri": "https://localhost:8080/"
        },
        "outputId": "eacc7983-607a-4e6f-f562-fa7a1c0c23bd"
      },
      "source": [
        "# adding model.eval() because the model uses Dropout, which is specially handled\n",
        "# by PyTorch JIT in training mode. Turning the model into eval mode and then\n",
        "# no warning will be printed\n",
        "from torchvision import models\n",
        "\n",
        "my_model = models.AlexNet()\n",
        "my_model.eval()\n",
        "traced_model = torch.jit.trace(my_model, torch.rand(1, 3, 224, 224))\n",
        "print(\"the traced model\")\n",
        "print(traced_model)\n",
        "print(\"the traced model's code\")\n",
        "print(traced_model.code)\n",
        "\n",
        "# These parameters can be saved by JIT too\n",
        "# note we are passing an absolute path here\n",
        "# as in this notebook we will switch working directory later\n",
        "torch.jit.save(traced_model, \"/content/drive/MyDrive/libtorch_test/traced_model\")"
      ],
      "execution_count": null,
      "outputs": [
        {
          "output_type": "stream",
          "text": [
            "the traced model\n",
            "AlexNet(\n",
            "  original_name=AlexNet\n",
            "  (features): Sequential(\n",
            "    original_name=Sequential\n",
            "    (0): Conv2d(original_name=Conv2d)\n",
            "    (1): ReLU(original_name=ReLU)\n",
            "    (2): MaxPool2d(original_name=MaxPool2d)\n",
            "    (3): Conv2d(original_name=Conv2d)\n",
            "    (4): ReLU(original_name=ReLU)\n",
            "    (5): MaxPool2d(original_name=MaxPool2d)\n",
            "    (6): Conv2d(original_name=Conv2d)\n",
            "    (7): ReLU(original_name=ReLU)\n",
            "    (8): Conv2d(original_name=Conv2d)\n",
            "    (9): ReLU(original_name=ReLU)\n",
            "    (10): Conv2d(original_name=Conv2d)\n",
            "    (11): ReLU(original_name=ReLU)\n",
            "    (12): MaxPool2d(original_name=MaxPool2d)\n",
            "  )\n",
            "  (avgpool): AdaptiveAvgPool2d(original_name=AdaptiveAvgPool2d)\n",
            "  (classifier): Sequential(\n",
            "    original_name=Sequential\n",
            "    (0): Dropout(original_name=Dropout)\n",
            "    (1): Linear(original_name=Linear)\n",
            "    (2): ReLU(original_name=ReLU)\n",
            "    (3): Dropout(original_name=Dropout)\n",
            "    (4): Linear(original_name=Linear)\n",
            "    (5): ReLU(original_name=ReLU)\n",
            "    (6): Linear(original_name=Linear)\n",
            "  )\n",
            ")\n",
            "the traced model's code\n",
            "def forward(self,\n",
            "    x: Tensor) -> Tensor:\n",
            "  _0 = self.classifier\n",
            "  _1 = (self.avgpool).forward((self.features).forward(x, ), )\n",
            "  input = torch.flatten(_1, 1)\n",
            "  return (_0).forward(input, )\n",
            "\n"
          ],
          "name": "stdout"
        }
      ]
    },
    {
      "cell_type": "markdown",
      "metadata": {
        "id": "KcAXQQuwYo_n"
      },
      "source": [
        "The following shows examples of converting Python code to TorchScript"
      ]
    },
    {
      "cell_type": "code",
      "metadata": {
        "colab": {
          "base_uri": "https://localhost:8080/"
        },
        "id": "GiWdC7JraXHF",
        "outputId": "e9903521-2901-46c3-fa5f-b02b914005a7"
      },
      "source": [
        "import torch\n",
        "\n",
        "def example(x, y):\n",
        "    if x.min() > y.min():\n",
        "        r = x\n",
        "    else:\n",
        "        r = y\n",
        "    return r\n",
        "\n",
        "print(\"Python example\")\n",
        "print(example(torch.rand(3), torch.rand(3)))"
      ],
      "execution_count": null,
      "outputs": [
        {
          "output_type": "stream",
          "text": [
            "tensor([0.2596, 0.1074, 0.3777])\n"
          ],
          "name": "stdout"
        }
      ]
    },
    {
      "cell_type": "code",
      "metadata": {
        "colab": {
          "base_uri": "https://localhost:8080/"
        },
        "id": "kFEELNLgaxI9",
        "outputId": "17badcb5-6276-4abe-aafb-49b3724593de"
      },
      "source": [
        "import torch\n",
        "\n",
        "@torch.jit.script\n",
        "def example(x, y):\n",
        "    if x.min() > y.min():\n",
        "        r = x\n",
        "    else:\n",
        "        r = y\n",
        "    return r\n",
        "\n",
        "print(\"TorchScript example\")\n",
        "print(example(torch.rand(3), torch.rand(3)))"
      ],
      "execution_count": null,
      "outputs": [
        {
          "output_type": "stream",
          "text": [
            "TorchScript example\n",
            "tensor([0.9065, 0.3825, 0.6518])\n"
          ],
          "name": "stdout"
        }
      ]
    },
    {
      "cell_type": "markdown",
      "metadata": {
        "id": "1M8iUeF5gQW2"
      },
      "source": [
        "The following is an example of defining a model in TorchScript."
      ]
    },
    {
      "cell_type": "code",
      "metadata": {
        "id": "49haqsumgQGd"
      },
      "source": [
        "# the main difference is that the class should \n",
        "# inherit from torch.jit.ScriptModule,\n",
        "# instead of nn.Module\n",
        "class FeaturesCNNNet(torch.jit.ScriptModule):\n",
        "    def __init__(self, num_classes = 2):\n",
        "        super(FeaturesCNNNet, self).__init__()\n",
        "        self.features = torch.jit.trace(\n",
        "            nn.Sequential(\n",
        "                nn.Conv2d(3, 64, kernel_size = 11, stride = 4, padding = 2),\n",
        "                nn.ReLU(),\n",
        "                nn.MaxPool2d(kernel_size = 3, stride = 2),\n",
        "                nn.Conv2d(64, 192, kernel_size = 5, padding = 2),\n",
        "                nn.ReLU(),\n",
        "                nn.MaxPool2d(kernel_size = 3, stride = 2),\n",
        "                nn.Conv2d(192, 384, kernel_size= 3, padding = 1),\n",
        "                nn.ReLU(),\n",
        "                nn.Conv2d(384, 256, kernel_size = 3, padding = 1),\n",
        "                nn.ReLU(),\n",
        "                nn.Conv2d(256, 256, kernel_size = 3, padding = 1),\n",
        "                nn.ReLU(),\n",
        "                nn.MaxPool2d(kernel_size = 3, stride = 2)\n",
        "            ),\n",
        "            torch.rand(1, 3, 224, 224)\n",
        "        )\n",
        "    @torch.jit.script_method\n",
        "    def forward(self, x):\n",
        "        x = self.features(x)\n",
        "        return x\n",
        "\n",
        "my_model = FeaturesCNNNet()\n"
      ],
      "execution_count": null,
      "outputs": []
    },
    {
      "cell_type": "markdown",
      "metadata": {
        "id": "vniLOlGympAs"
      },
      "source": [
        "In the following we are going to demonstrate some limitations of TorchScript."
      ]
    },
    {
      "cell_type": "code",
      "metadata": {
        "colab": {
          "base_uri": "https://localhost:8080/",
          "height": 479
        },
        "id": "Zoho6EHUmoEk",
        "outputId": "6771b7d4-283f-4a2d-dd1b-44f8d4f74cda"
      },
      "source": [
        "# returning different types in one function is not supported in TorchScript\n",
        "# check the error message when running\n",
        "\n",
        "@torch.jit.script\n",
        "def str_or_int(x):\n",
        "    if (x > 3):\n",
        "        return \"haha\"\n",
        "    else:\n",
        "        return 0"
      ],
      "execution_count": null,
      "outputs": [
        {
          "output_type": "error",
          "ename": "RuntimeError",
          "evalue": "ignored",
          "traceback": [
            "\u001b[0;31m---------------------------------------------------------------------------\u001b[0m",
            "\u001b[0;31mRuntimeError\u001b[0m                              Traceback (most recent call last)",
            "\u001b[0;32m<ipython-input-13-f25273fc4f96>\u001b[0m in \u001b[0;36m<module>\u001b[0;34m()\u001b[0m\n\u001b[1;32m      1\u001b[0m \u001b[0;31m# returning different types in one function is not supported in TorchScript\u001b[0m\u001b[0;34m\u001b[0m\u001b[0;34m\u001b[0m\u001b[0;34m\u001b[0m\u001b[0m\n\u001b[1;32m      2\u001b[0m \u001b[0;34m\u001b[0m\u001b[0m\n\u001b[0;32m----> 3\u001b[0;31m \u001b[0;34m@\u001b[0m\u001b[0mtorch\u001b[0m\u001b[0;34m.\u001b[0m\u001b[0mjit\u001b[0m\u001b[0;34m.\u001b[0m\u001b[0mscript\u001b[0m\u001b[0;34m\u001b[0m\u001b[0;34m\u001b[0m\u001b[0m\n\u001b[0m\u001b[1;32m      4\u001b[0m \u001b[0;32mdef\u001b[0m \u001b[0mstr_or_int\u001b[0m\u001b[0;34m(\u001b[0m\u001b[0mx\u001b[0m\u001b[0;34m)\u001b[0m\u001b[0;34m:\u001b[0m\u001b[0;34m\u001b[0m\u001b[0;34m\u001b[0m\u001b[0m\n\u001b[1;32m      5\u001b[0m     \u001b[0;32mif\u001b[0m \u001b[0;34m(\u001b[0m\u001b[0mx\u001b[0m \u001b[0;34m>\u001b[0m \u001b[0;36m3\u001b[0m\u001b[0;34m)\u001b[0m\u001b[0;34m:\u001b[0m\u001b[0;34m\u001b[0m\u001b[0;34m\u001b[0m\u001b[0m\n",
            "\u001b[0;32m/usr/local/lib/python3.7/dist-packages/torch/jit/_script.py\u001b[0m in \u001b[0;36mscript\u001b[0;34m(obj, optimize, _frames_up, _rcb)\u001b[0m\n\u001b[1;32m   1142\u001b[0m             \u001b[0m_rcb\u001b[0m \u001b[0;34m=\u001b[0m \u001b[0m_jit_internal\u001b[0m\u001b[0;34m.\u001b[0m\u001b[0mcreateResolutionCallbackFromClosure\u001b[0m\u001b[0;34m(\u001b[0m\u001b[0mobj\u001b[0m\u001b[0;34m)\u001b[0m\u001b[0;34m\u001b[0m\u001b[0;34m\u001b[0m\u001b[0m\n\u001b[1;32m   1143\u001b[0m         fn = torch._C._jit_script_compile(\n\u001b[0;32m-> 1144\u001b[0;31m             \u001b[0mqualified_name\u001b[0m\u001b[0;34m,\u001b[0m \u001b[0mast\u001b[0m\u001b[0;34m,\u001b[0m \u001b[0m_rcb\u001b[0m\u001b[0;34m,\u001b[0m \u001b[0mget_default_args\u001b[0m\u001b[0;34m(\u001b[0m\u001b[0mobj\u001b[0m\u001b[0;34m)\u001b[0m\u001b[0;34m\u001b[0m\u001b[0;34m\u001b[0m\u001b[0m\n\u001b[0m\u001b[1;32m   1145\u001b[0m         )\n\u001b[1;32m   1146\u001b[0m         \u001b[0;31m# Forward docstrings\u001b[0m\u001b[0;34m\u001b[0m\u001b[0;34m\u001b[0m\u001b[0;34m\u001b[0m\u001b[0m\n",
            "\u001b[0;31mRuntimeError\u001b[0m: \nPrevious return statement returned a value of type str but this return statement returns a value of type int:\n  File \"<ipython-input-13-f25273fc4f96>\", line 8\n        return \"haha\"\n    else:\n        return 0\n        ~~~~~~~~ <--- HERE\n"
          ]
        }
      ]
    },
    {
      "cell_type": "code",
      "metadata": {
        "colab": {
          "base_uri": "https://localhost:8080/"
        },
        "id": "-WZb3kMwmhEg",
        "outputId": "c2e76ace-8584-4d01-84e7-dcf45a493f01"
      },
      "source": [
        "# this is to show by default TorchScript functions\n",
        "# operate on tensors\n",
        "@torch.jit.script\n",
        "def add_int(x, y):\n",
        "    return x + y\n",
        "print(add_int.code)"
      ],
      "execution_count": null,
      "outputs": [
        {
          "output_type": "stream",
          "text": [
            "def add_int(x: Tensor,\n",
            "    y: Tensor) -> Tensor:\n",
            "  return torch.add(x, y)\n",
            "\n"
          ],
          "name": "stdout"
        }
      ]
    },
    {
      "cell_type": "code",
      "metadata": {
        "colab": {
          "base_uri": "https://localhost:8080/"
        },
        "id": "Oq_1cdF5ndgN",
        "outputId": "3ddc4862-36a0-4854-e671-9f6b52ec03c3"
      },
      "source": [
        "# try this to pass the argument as type of int instead of tensor\n",
        "@torch.jit.script\n",
        "def add_int_v2(x : int, y : int) -> int:\n",
        "    return x + y\n",
        "print(add_int_v2.code)"
      ],
      "execution_count": null,
      "outputs": [
        {
          "output_type": "stream",
          "text": [
            "def add_int_v2(x: int,\n",
            "    y: int) -> int:\n",
            "  return torch.add(x, y)\n",
            "\n"
          ],
          "name": "stdout"
        }
      ]
    },
    {
      "cell_type": "code",
      "metadata": {
        "colab": {
          "base_uri": "https://localhost:8080/",
          "height": 395
        },
        "id": "j4s_5CX-uyc_",
        "outputId": "847e8cb7-a7a1-452a-8f71-91f97ca8903a"
      },
      "source": [
        "# also you can't declare a new member variable in class method\n",
        "# other than __init__\n",
        "import torch\n",
        "\n",
        "# note the following code won't work in Google Colab, even if \n",
        "# you declare self.y in __init__\n",
        "# the reason can be found in https://github.com/pytorch/pytorch/issues/28258\n",
        "# basically it's a notebook limitation.\n",
        "@torch.jit.script\n",
        "class class_example:\n",
        "\n",
        "    def __init__(self, x):\n",
        "        self.x = x\n",
        "\n",
        "    def set_y(y):\n",
        "        self.y = y\n"
      ],
      "execution_count": null,
      "outputs": [
        {
          "output_type": "error",
          "ename": "TypeError",
          "evalue": "ignored",
          "traceback": [
            "\u001b[0;31m---------------------------------------------------------------------------\u001b[0m",
            "\u001b[0;31mTypeError\u001b[0m                                 Traceback (most recent call last)",
            "\u001b[0;32m<ipython-input-14-6d4f8725a511>\u001b[0m in \u001b[0;36m<module>\u001b[0;34m()\u001b[0m\n\u001b[1;32m      3\u001b[0m \u001b[0;32mimport\u001b[0m \u001b[0mtorch\u001b[0m\u001b[0;34m\u001b[0m\u001b[0;34m\u001b[0m\u001b[0m\n\u001b[1;32m      4\u001b[0m \u001b[0;34m\u001b[0m\u001b[0m\n\u001b[0;32m----> 5\u001b[0;31m \u001b[0;34m@\u001b[0m\u001b[0mtorch\u001b[0m\u001b[0;34m.\u001b[0m\u001b[0mjit\u001b[0m\u001b[0;34m.\u001b[0m\u001b[0mscript\u001b[0m\u001b[0;34m\u001b[0m\u001b[0;34m\u001b[0m\u001b[0m\n\u001b[0m\u001b[1;32m      6\u001b[0m \u001b[0;32mclass\u001b[0m \u001b[0mclass_example\u001b[0m\u001b[0;34m:\u001b[0m\u001b[0;34m\u001b[0m\u001b[0;34m\u001b[0m\u001b[0m\n\u001b[1;32m      7\u001b[0m \u001b[0;34m\u001b[0m\u001b[0m\n",
            "\u001b[0;32m/usr/local/lib/python3.7/dist-packages/torch/jit/_script.py\u001b[0m in \u001b[0;36mscript\u001b[0;34m(obj, optimize, _frames_up, _rcb)\u001b[0m\n\u001b[1;32m   1126\u001b[0m         \u001b[0;32mif\u001b[0m \u001b[0m_rcb\u001b[0m \u001b[0;32mis\u001b[0m \u001b[0;32mNone\u001b[0m\u001b[0;34m:\u001b[0m\u001b[0;34m\u001b[0m\u001b[0;34m\u001b[0m\u001b[0m\n\u001b[1;32m   1127\u001b[0m             \u001b[0m_rcb\u001b[0m \u001b[0;34m=\u001b[0m \u001b[0m_jit_internal\u001b[0m\u001b[0;34m.\u001b[0m\u001b[0mcreateResolutionCallbackFromFrame\u001b[0m\u001b[0;34m(\u001b[0m\u001b[0m_frames_up\u001b[0m \u001b[0;34m+\u001b[0m \u001b[0;36m1\u001b[0m\u001b[0;34m)\u001b[0m\u001b[0;34m\u001b[0m\u001b[0;34m\u001b[0m\u001b[0m\n\u001b[0;32m-> 1128\u001b[0;31m         \u001b[0m_compile_and_register_class\u001b[0m\u001b[0;34m(\u001b[0m\u001b[0mobj\u001b[0m\u001b[0;34m,\u001b[0m \u001b[0m_rcb\u001b[0m\u001b[0;34m,\u001b[0m \u001b[0mqualified_name\u001b[0m\u001b[0;34m)\u001b[0m\u001b[0;34m\u001b[0m\u001b[0;34m\u001b[0m\u001b[0m\n\u001b[0m\u001b[1;32m   1129\u001b[0m         \u001b[0;32mreturn\u001b[0m \u001b[0mobj\u001b[0m\u001b[0;34m\u001b[0m\u001b[0;34m\u001b[0m\u001b[0m\n\u001b[1;32m   1130\u001b[0m     \u001b[0;32melse\u001b[0m\u001b[0;34m:\u001b[0m\u001b[0;34m\u001b[0m\u001b[0;34m\u001b[0m\u001b[0m\n",
            "\u001b[0;32m/usr/local/lib/python3.7/dist-packages/torch/jit/_script.py\u001b[0m in \u001b[0;36m_compile_and_register_class\u001b[0;34m(obj, rcb, qualified_name)\u001b[0m\n\u001b[1;32m    134\u001b[0m \u001b[0;34m\u001b[0m\u001b[0m\n\u001b[1;32m    135\u001b[0m \u001b[0;32mdef\u001b[0m \u001b[0m_compile_and_register_class\u001b[0m\u001b[0;34m(\u001b[0m\u001b[0mobj\u001b[0m\u001b[0;34m,\u001b[0m \u001b[0mrcb\u001b[0m\u001b[0;34m,\u001b[0m \u001b[0mqualified_name\u001b[0m\u001b[0;34m)\u001b[0m\u001b[0;34m:\u001b[0m\u001b[0;34m\u001b[0m\u001b[0;34m\u001b[0m\u001b[0m\n\u001b[0;32m--> 136\u001b[0;31m     \u001b[0mast\u001b[0m \u001b[0;34m=\u001b[0m \u001b[0mget_jit_class_def\u001b[0m\u001b[0;34m(\u001b[0m\u001b[0mobj\u001b[0m\u001b[0;34m,\u001b[0m \u001b[0mobj\u001b[0m\u001b[0;34m.\u001b[0m\u001b[0m__name__\u001b[0m\u001b[0;34m)\u001b[0m\u001b[0;34m\u001b[0m\u001b[0;34m\u001b[0m\u001b[0m\n\u001b[0m\u001b[1;32m    137\u001b[0m     \u001b[0mdefaults\u001b[0m \u001b[0;34m=\u001b[0m \u001b[0mtorch\u001b[0m\u001b[0;34m.\u001b[0m\u001b[0mjit\u001b[0m\u001b[0;34m.\u001b[0m\u001b[0mfrontend\u001b[0m\u001b[0;34m.\u001b[0m\u001b[0mget_default_args_for_class\u001b[0m\u001b[0;34m(\u001b[0m\u001b[0mobj\u001b[0m\u001b[0;34m)\u001b[0m\u001b[0;34m\u001b[0m\u001b[0;34m\u001b[0m\u001b[0m\n\u001b[1;32m    138\u001b[0m     \u001b[0mscript_class\u001b[0m \u001b[0;34m=\u001b[0m \u001b[0mtorch\u001b[0m\u001b[0;34m.\u001b[0m\u001b[0m_C\u001b[0m\u001b[0;34m.\u001b[0m\u001b[0m_jit_script_class_compile\u001b[0m\u001b[0;34m(\u001b[0m\u001b[0mqualified_name\u001b[0m\u001b[0;34m,\u001b[0m \u001b[0mast\u001b[0m\u001b[0;34m,\u001b[0m \u001b[0mdefaults\u001b[0m\u001b[0;34m,\u001b[0m \u001b[0mrcb\u001b[0m\u001b[0;34m)\u001b[0m\u001b[0;34m\u001b[0m\u001b[0;34m\u001b[0m\u001b[0m\n",
            "\u001b[0;32m/usr/local/lib/python3.7/dist-packages/torch/jit/frontend.py\u001b[0m in \u001b[0;36mget_jit_class_def\u001b[0;34m(cls, self_name)\u001b[0m\n\u001b[1;32m    203\u001b[0m     \u001b[0mproperties\u001b[0m \u001b[0;34m=\u001b[0m \u001b[0mget_class_properties\u001b[0m\u001b[0;34m(\u001b[0m\u001b[0mcls\u001b[0m\u001b[0;34m,\u001b[0m \u001b[0mself_name\u001b[0m\u001b[0;34m)\u001b[0m\u001b[0;34m\u001b[0m\u001b[0;34m\u001b[0m\u001b[0m\n\u001b[1;32m    204\u001b[0m \u001b[0;34m\u001b[0m\u001b[0m\n\u001b[0;32m--> 205\u001b[0;31m     \u001b[0msourcelines\u001b[0m\u001b[0;34m,\u001b[0m \u001b[0mfile_lineno\u001b[0m\u001b[0;34m,\u001b[0m \u001b[0mfilename\u001b[0m \u001b[0;34m=\u001b[0m \u001b[0mget_source_lines_and_file\u001b[0m\u001b[0;34m(\u001b[0m\u001b[0mcls\u001b[0m\u001b[0;34m,\u001b[0m \u001b[0mtorch\u001b[0m\u001b[0;34m.\u001b[0m\u001b[0m_C\u001b[0m\u001b[0;34m.\u001b[0m\u001b[0mErrorReport\u001b[0m\u001b[0;34m.\u001b[0m\u001b[0mcall_stack\u001b[0m\u001b[0;34m(\u001b[0m\u001b[0;34m)\u001b[0m\u001b[0;34m)\u001b[0m\u001b[0;34m\u001b[0m\u001b[0;34m\u001b[0m\u001b[0m\n\u001b[0m\u001b[1;32m    206\u001b[0m     \u001b[0msource\u001b[0m \u001b[0;34m=\u001b[0m \u001b[0;34m''\u001b[0m\u001b[0;34m.\u001b[0m\u001b[0mjoin\u001b[0m\u001b[0;34m(\u001b[0m\u001b[0msourcelines\u001b[0m\u001b[0;34m)\u001b[0m\u001b[0;34m\u001b[0m\u001b[0;34m\u001b[0m\u001b[0m\n\u001b[1;32m    207\u001b[0m     \u001b[0mdedent_src\u001b[0m \u001b[0;34m=\u001b[0m \u001b[0mdedent\u001b[0m\u001b[0;34m(\u001b[0m\u001b[0msource\u001b[0m\u001b[0;34m)\u001b[0m\u001b[0;34m\u001b[0m\u001b[0;34m\u001b[0m\u001b[0m\n",
            "\u001b[0;32m/usr/local/lib/python3.7/dist-packages/torch/_utils_internal.py\u001b[0m in \u001b[0;36mget_source_lines_and_file\u001b[0;34m(obj, error_msg)\u001b[0m\n\u001b[1;32m     52\u001b[0m     \u001b[0mfilename\u001b[0m \u001b[0;34m=\u001b[0m \u001b[0;32mNone\u001b[0m  \u001b[0;31m# in case getsourcefile throws\u001b[0m\u001b[0;34m\u001b[0m\u001b[0;34m\u001b[0m\u001b[0m\n\u001b[1;32m     53\u001b[0m     \u001b[0;32mtry\u001b[0m\u001b[0;34m:\u001b[0m\u001b[0;34m\u001b[0m\u001b[0;34m\u001b[0m\u001b[0m\n\u001b[0;32m---> 54\u001b[0;31m         \u001b[0mfilename\u001b[0m \u001b[0;34m=\u001b[0m \u001b[0minspect\u001b[0m\u001b[0;34m.\u001b[0m\u001b[0mgetsourcefile\u001b[0m\u001b[0;34m(\u001b[0m\u001b[0mobj\u001b[0m\u001b[0;34m)\u001b[0m\u001b[0;34m\u001b[0m\u001b[0;34m\u001b[0m\u001b[0m\n\u001b[0m\u001b[1;32m     55\u001b[0m         \u001b[0msourcelines\u001b[0m\u001b[0;34m,\u001b[0m \u001b[0mfile_lineno\u001b[0m \u001b[0;34m=\u001b[0m \u001b[0minspect\u001b[0m\u001b[0;34m.\u001b[0m\u001b[0mgetsourcelines\u001b[0m\u001b[0;34m(\u001b[0m\u001b[0mobj\u001b[0m\u001b[0;34m)\u001b[0m\u001b[0;34m\u001b[0m\u001b[0;34m\u001b[0m\u001b[0m\n\u001b[1;32m     56\u001b[0m     \u001b[0;32mexcept\u001b[0m \u001b[0mOSError\u001b[0m \u001b[0;32mas\u001b[0m \u001b[0me\u001b[0m\u001b[0;34m:\u001b[0m\u001b[0;34m\u001b[0m\u001b[0;34m\u001b[0m\u001b[0m\n",
            "\u001b[0;32m/usr/lib/python3.7/inspect.py\u001b[0m in \u001b[0;36mgetsourcefile\u001b[0;34m(object)\u001b[0m\n\u001b[1;32m    682\u001b[0m     \u001b[0mReturn\u001b[0m \u001b[0;32mNone\u001b[0m \u001b[0;32mif\u001b[0m \u001b[0mno\u001b[0m \u001b[0mway\u001b[0m \u001b[0mcan\u001b[0m \u001b[0mbe\u001b[0m \u001b[0midentified\u001b[0m \u001b[0mto\u001b[0m \u001b[0mget\u001b[0m \u001b[0mthe\u001b[0m \u001b[0msource\u001b[0m\u001b[0;34m.\u001b[0m\u001b[0;34m\u001b[0m\u001b[0;34m\u001b[0m\u001b[0m\n\u001b[1;32m    683\u001b[0m     \"\"\"\n\u001b[0;32m--> 684\u001b[0;31m     \u001b[0mfilename\u001b[0m \u001b[0;34m=\u001b[0m \u001b[0mgetfile\u001b[0m\u001b[0;34m(\u001b[0m\u001b[0mobject\u001b[0m\u001b[0;34m)\u001b[0m\u001b[0;34m\u001b[0m\u001b[0;34m\u001b[0m\u001b[0m\n\u001b[0m\u001b[1;32m    685\u001b[0m     \u001b[0mall_bytecode_suffixes\u001b[0m \u001b[0;34m=\u001b[0m \u001b[0mimportlib\u001b[0m\u001b[0;34m.\u001b[0m\u001b[0mmachinery\u001b[0m\u001b[0;34m.\u001b[0m\u001b[0mDEBUG_BYTECODE_SUFFIXES\u001b[0m\u001b[0;34m[\u001b[0m\u001b[0;34m:\u001b[0m\u001b[0;34m]\u001b[0m\u001b[0;34m\u001b[0m\u001b[0;34m\u001b[0m\u001b[0m\n\u001b[1;32m    686\u001b[0m     \u001b[0mall_bytecode_suffixes\u001b[0m \u001b[0;34m+=\u001b[0m \u001b[0mimportlib\u001b[0m\u001b[0;34m.\u001b[0m\u001b[0mmachinery\u001b[0m\u001b[0;34m.\u001b[0m\u001b[0mOPTIMIZED_BYTECODE_SUFFIXES\u001b[0m\u001b[0;34m[\u001b[0m\u001b[0;34m:\u001b[0m\u001b[0;34m]\u001b[0m\u001b[0;34m\u001b[0m\u001b[0;34m\u001b[0m\u001b[0m\n",
            "\u001b[0;32m/usr/local/lib/python3.7/dist-packages/torch/package/package_importer.py\u001b[0m in \u001b[0;36mpatched_getfile\u001b[0;34m(object)\u001b[0m\n\u001b[1;32m    590\u001b[0m         \u001b[0;32mif\u001b[0m \u001b[0mobject\u001b[0m\u001b[0;34m.\u001b[0m\u001b[0m__module__\u001b[0m \u001b[0;32min\u001b[0m \u001b[0m_package_imported_modules\u001b[0m\u001b[0;34m:\u001b[0m\u001b[0;34m\u001b[0m\u001b[0;34m\u001b[0m\u001b[0m\n\u001b[1;32m    591\u001b[0m             \u001b[0;32mreturn\u001b[0m \u001b[0m_package_imported_modules\u001b[0m\u001b[0;34m[\u001b[0m\u001b[0mobject\u001b[0m\u001b[0;34m.\u001b[0m\u001b[0m__module__\u001b[0m\u001b[0;34m]\u001b[0m\u001b[0;34m.\u001b[0m\u001b[0m__file__\u001b[0m\u001b[0;34m\u001b[0m\u001b[0;34m\u001b[0m\u001b[0m\n\u001b[0;32m--> 592\u001b[0;31m     \u001b[0;32mreturn\u001b[0m \u001b[0m_orig_getfile\u001b[0m\u001b[0;34m(\u001b[0m\u001b[0mobject\u001b[0m\u001b[0;34m)\u001b[0m\u001b[0;34m\u001b[0m\u001b[0;34m\u001b[0m\u001b[0m\n\u001b[0m\u001b[1;32m    593\u001b[0m \u001b[0;34m\u001b[0m\u001b[0m\n\u001b[1;32m    594\u001b[0m \u001b[0;34m\u001b[0m\u001b[0m\n",
            "\u001b[0;32m/usr/lib/python3.7/inspect.py\u001b[0m in \u001b[0;36mgetfile\u001b[0;34m(object)\u001b[0m\n\u001b[1;32m    651\u001b[0m             \u001b[0;32mif\u001b[0m \u001b[0mgetattr\u001b[0m\u001b[0;34m(\u001b[0m\u001b[0mmodule\u001b[0m\u001b[0;34m,\u001b[0m \u001b[0;34m'__file__'\u001b[0m\u001b[0;34m,\u001b[0m \u001b[0;32mNone\u001b[0m\u001b[0;34m)\u001b[0m\u001b[0;34m:\u001b[0m\u001b[0;34m\u001b[0m\u001b[0;34m\u001b[0m\u001b[0m\n\u001b[1;32m    652\u001b[0m                 \u001b[0;32mreturn\u001b[0m \u001b[0mmodule\u001b[0m\u001b[0;34m.\u001b[0m\u001b[0m__file__\u001b[0m\u001b[0;34m\u001b[0m\u001b[0;34m\u001b[0m\u001b[0m\n\u001b[0;32m--> 653\u001b[0;31m         \u001b[0;32mraise\u001b[0m \u001b[0mTypeError\u001b[0m\u001b[0;34m(\u001b[0m\u001b[0;34m'{!r} is a built-in class'\u001b[0m\u001b[0;34m.\u001b[0m\u001b[0mformat\u001b[0m\u001b[0;34m(\u001b[0m\u001b[0mobject\u001b[0m\u001b[0;34m)\u001b[0m\u001b[0;34m)\u001b[0m\u001b[0;34m\u001b[0m\u001b[0;34m\u001b[0m\u001b[0m\n\u001b[0m\u001b[1;32m    654\u001b[0m     \u001b[0;32mif\u001b[0m \u001b[0mismethod\u001b[0m\u001b[0;34m(\u001b[0m\u001b[0mobject\u001b[0m\u001b[0;34m)\u001b[0m\u001b[0;34m:\u001b[0m\u001b[0;34m\u001b[0m\u001b[0;34m\u001b[0m\u001b[0m\n\u001b[1;32m    655\u001b[0m         \u001b[0mobject\u001b[0m \u001b[0;34m=\u001b[0m \u001b[0mobject\u001b[0m\u001b[0;34m.\u001b[0m\u001b[0m__func__\u001b[0m\u001b[0;34m\u001b[0m\u001b[0;34m\u001b[0m\u001b[0m\n",
            "\u001b[0;31mTypeError\u001b[0m: <class '__main__.class_example'> is a built-in class"
          ]
        }
      ]
    },
    {
      "cell_type": "markdown",
      "metadata": {
        "id": "uBKCIdOeqQEu"
      },
      "source": [
        "Now we are trying to run PyTorch in C++. Firstly set up the dependence"
      ]
    },
    {
      "cell_type": "code",
      "metadata": {
        "id": "BTIag7XHqaYG"
      },
      "source": [
        "!apt install cmake g++\n",
        "# https://stackoverflow.com/a/57212513 check for the difference between % and ! in usage for Google Colab\n",
        "%cd /content/drive/MyDrive/libtorch_test\n",
        "!wget https://download.pytorch.org/libtorch/cpu/libtorch-cxx11-abi-shared-with-deps-1.9.0%2Bcpu.zip\n",
        "!unzip libtorch-cxx11-abi-shared-with-deps-1.9.0+cpu.zip"
      ],
      "execution_count": null,
      "outputs": []
    },
    {
      "cell_type": "markdown",
      "metadata": {
        "id": "xCt6_RaMq9Zc"
      },
      "source": [
        "In ./drive/MyDrive/libtorch_test, put the following into a CMakeLists.txt."
      ]
    },
    {
      "cell_type": "code",
      "metadata": {
        "id": "rEYnSrXiq8q1"
      },
      "source": [
        "cmake_minimum_required(VERSION 3.0 FATAL_ERROR)\n",
        "\n",
        "find_package(Torch REQUIRED)\n",
        "\n",
        "add_executable(hello_world hello_world.cpp)\n",
        "target_link_libraries(hello_world \"${TORCH_LIBRARIES}\")"
      ],
      "execution_count": null,
      "outputs": []
    },
    {
      "cell_type": "markdown",
      "metadata": {
        "id": "8Zo_bv-4rh7G"
      },
      "source": [
        "In ./drive/MyDrive/libtorch_test, put the following into hello_world.cpp."
      ]
    },
    {
      "cell_type": "code",
      "metadata": {
        "id": "Z-0wiX7jqvuQ"
      },
      "source": [
        "#include <iostream>\n",
        "#include <torch/torch.h>\n",
        "\n",
        "int main()\n",
        "{\n",
        "    torch::Tensor tensor = torch::ones({2, 2});\n",
        "    std::cout << tensor << std::endl;\n",
        "}"
      ],
      "execution_count": null,
      "outputs": []
    },
    {
      "cell_type": "markdown",
      "metadata": {
        "id": "VEtYe0jor0gF"
      },
      "source": [
        "Then compile and run the project."
      ]
    },
    {
      "cell_type": "code",
      "metadata": {
        "colab": {
          "base_uri": "https://localhost:8080/"
        },
        "id": "XPLTetC_r2y8",
        "outputId": "b1193380-a4b6-4d1a-8908-dd49f0d50444"
      },
      "source": [
        "%cd /content/drive/MyDrive/libtorch_test\n",
        "!rm -rf build\n",
        "!mkdir build\n",
        "%cd build\n",
        "!cmake -DCMAKE_PREFIX_PATH=libtorch ..\n",
        "!make\n",
        "!./hello_world"
      ],
      "execution_count": 17,
      "outputs": [
        {
          "output_type": "stream",
          "text": [
            "/content/drive/MyDrive/libtorch_test\n",
            "/content/drive/MyDrive/libtorch_test/build\n",
            "-- The C compiler identification is GNU 7.5.0\n",
            "-- The CXX compiler identification is GNU 7.5.0\n",
            "-- Check for working C compiler: /usr/bin/cc\n",
            "-- Check for working C compiler: /usr/bin/cc -- works\n",
            "-- Detecting C compiler ABI info\n",
            "-- Detecting C compiler ABI info - done\n",
            "-- Detecting C compile features\n",
            "-- Detecting C compile features - done\n",
            "-- Check for working CXX compiler: /usr/bin/c++\n",
            "-- Check for working CXX compiler: /usr/bin/c++ -- works\n",
            "-- Detecting CXX compiler ABI info\n",
            "-- Detecting CXX compiler ABI info - done\n",
            "-- Detecting CXX compile features\n",
            "-- Detecting CXX compile features - done\n",
            "-- Looking for pthread.h\n",
            "-- Looking for pthread.h - found\n",
            "-- Looking for pthread_create\n",
            "-- Looking for pthread_create - not found\n",
            "-- Looking for pthread_create in pthreads\n",
            "-- Looking for pthread_create in pthreads - not found\n",
            "-- Looking for pthread_create in pthread\n",
            "-- Looking for pthread_create in pthread - found\n",
            "-- Found Threads: TRUE  \n",
            "-- Found Torch: /content/drive/MyDrive/libtorch_test/libtorch/lib/libtorch.so  \n",
            "-- Configuring done\n",
            "-- Generating done\n",
            "-- Build files have been written to: /content/drive/MyDrive/libtorch_test/build\n",
            "\u001b[35m\u001b[1mScanning dependencies of target hello_world\u001b[0m\n",
            "[-50%] \u001b[32mBuilding CXX object CMakeFiles/hello_world.dir/hello_world.cpp.o\u001b[0m\n",
            "[  0%] \u001b[32m\u001b[1mLinking CXX executable hello_world\u001b[0m\n",
            "[  0%] Built target hello_world\n",
            " 1  1\n",
            " 1  1\n",
            "[ CPUFloatType{2,2} ]\n"
          ],
          "name": "stdout"
        }
      ]
    },
    {
      "cell_type": "markdown",
      "metadata": {
        "id": "cBmbXz0mxQ9l"
      },
      "source": [
        "Then we are going to run a real model with libTorch."
      ]
    },
    {
      "cell_type": "markdown",
      "metadata": {
        "id": "4NlTE6j0zWd8"
      },
      "source": [
        "Add the following in the above mentioned CMakeLists.txt."
      ]
    },
    {
      "cell_type": "code",
      "metadata": {
        "id": "4st1DexxzVcd"
      },
      "source": [
        "add_executable(load_model load_model.cpp)\n",
        "target_link_libraries(load_model \"${TORCH_LIBRARIES}\")"
      ],
      "execution_count": null,
      "outputs": []
    },
    {
      "cell_type": "markdown",
      "metadata": {
        "id": "oOVsnTCx0AM0"
      },
      "source": [
        "Create a new code file load_model.cpp and put the following inside."
      ]
    },
    {
      "cell_type": "code",
      "metadata": {
        "id": "AdtPIj4M0GQt"
      },
      "source": [
        "#include <torch/script.h>\n",
        "#include <iostream>\n",
        "#include <memory>\n",
        "int main()\n",
        "{\n",
        "    torch::jit::script::Module module = \n",
        "        torch::jit::load(\"../traced_model\");\n",
        "    \n",
        "    std::cout << \"model loaded\" << std::endl;\n",
        "    std::vector<torch::jit::IValue> inputs;\n",
        "    inputs.push_back(torch::rand({1, 3, 224, 224}));\n",
        "    torch::Tensor output = module.forward(inputs).toTensor();\n",
        "    std::cout << output << std::endl;\n",
        "}"
      ],
      "execution_count": null,
      "outputs": []
    },
    {
      "cell_type": "markdown",
      "metadata": {
        "id": "RNvhtWZR1IHs"
      },
      "source": [
        "Compile and run the executable."
      ]
    },
    {
      "cell_type": "code",
      "metadata": {
        "colab": {
          "base_uri": "https://localhost:8080/"
        },
        "id": "wEQtwh4V1Hxu",
        "outputId": "a23aee7e-a366-4ec8-eb26-d9e6b65b8094"
      },
      "source": [
        "%cd /content/drive/MyDrive/libtorch_test\n",
        "!rm -rf build\n",
        "!mkdir build\n",
        "%cd build\n",
        "!cmake -DCMAKE_PREFIX_PATH=libtorch ..\n",
        "!make\n",
        "!./load_model"
      ],
      "execution_count": 20,
      "outputs": [
        {
          "output_type": "stream",
          "text": [
            "/content/drive/MyDrive/libtorch_test\n",
            "/content/drive/MyDrive/libtorch_test/build\n",
            "-- The C compiler identification is GNU 7.5.0\n",
            "-- The CXX compiler identification is GNU 7.5.0\n",
            "-- Check for working C compiler: /usr/bin/cc\n",
            "-- Check for working C compiler: /usr/bin/cc -- works\n",
            "-- Detecting C compiler ABI info\n",
            "-- Detecting C compiler ABI info - done\n",
            "-- Detecting C compile features\n",
            "-- Detecting C compile features - done\n",
            "-- Check for working CXX compiler: /usr/bin/c++\n",
            "-- Check for working CXX compiler: /usr/bin/c++ -- works\n",
            "-- Detecting CXX compiler ABI info\n",
            "-- Detecting CXX compiler ABI info - done\n",
            "-- Detecting CXX compile features\n",
            "-- Detecting CXX compile features - done\n",
            "-- Looking for pthread.h\n",
            "-- Looking for pthread.h - found\n",
            "-- Looking for pthread_create\n",
            "-- Looking for pthread_create - not found\n",
            "-- Looking for pthread_create in pthreads\n",
            "-- Looking for pthread_create in pthreads - not found\n",
            "-- Looking for pthread_create in pthread\n",
            "-- Looking for pthread_create in pthread - found\n",
            "-- Found Threads: TRUE  \n",
            "-- Found Torch: /content/drive/MyDrive/libtorch_test/libtorch/lib/libtorch.so  \n",
            "-- Configuring done\n",
            "-- Generating done\n",
            "-- Build files have been written to: /content/drive/MyDrive/libtorch_test/build\n",
            "\u001b[35m\u001b[1mScanning dependencies of target load_model\u001b[0m\n",
            "[-25%] \u001b[32mBuilding CXX object CMakeFiles/load_model.dir/load_model.cpp.o\u001b[0m\n",
            "[  0%] \u001b[32m\u001b[1mLinking CXX executable load_model\u001b[0m\n",
            "[  0%] Built target load_model\n",
            "\u001b[35m\u001b[1mScanning dependencies of target hello_world\u001b[0m\n",
            "[ 25%] \u001b[32mBuilding CXX object CMakeFiles/hello_world.dir/hello_world.cpp.o\u001b[0m\n",
            "[ 50%] \u001b[32m\u001b[1mLinking CXX executable hello_world\u001b[0m\n",
            "[ 50%] Built target hello_world\n",
            "model loaded\n",
            "[W TensorImpl.h:1156] Warning: Named tensors and all their associated APIs are an experimental feature and subject to change. Please do not use them for anything important until they are released as stable. (function operator())\n",
            "Columns 1 to 100.01 *\n",
            " 0.6342  0.6132 -0.9232 -0.4375  0.3297 -1.6396 -1.2237 -1.7804 -0.3908  1.3064\n",
            "\n",
            "Columns 11 to 200.01 *\n",
            " 0.6534 -1.2378  1.3119 -0.2118  0.6483 -0.9568  1.8068  0.5294  0.6026  0.6586\n",
            "\n",
            "Columns 21 to 300.01 *\n",
            " 0.8610  0.6043  0.6541  1.1083 -0.4998  1.4584  0.5920  1.3320  0.4175 -0.6666\n",
            "\n",
            "Columns 31 to 400.01 *\n",
            "-0.0390  0.2882 -0.7177 -0.0086 -0.0028 -0.8242  1.0166 -0.9929  1.6048 -1.2950\n",
            "\n",
            "Columns 41 to 500.01 *\n",
            "-0.5490  0.9611  0.0112 -0.3113 -1.2480  1.6646  0.7884  0.4796 -1.3965  1.5682\n",
            "\n",
            "Columns 51 to 600.01 *\n",
            " 0.2006 -0.9738 -0.2583 -1.1141  0.7431  1.1786 -1.4392  0.4808 -1.0591 -1.0240\n",
            "\n",
            "Columns 61 to 700.01 *\n",
            " 0.2155 -1.2509  0.2231  0.2114  0.2532 -0.4099 -0.4829  1.0304  1.4336  1.1623\n",
            "\n",
            "Columns 71 to 800.01 *\n",
            " 0.8652  0.4810  0.8289  1.6778  1.6014  0.2944  1.0759  0.5890  0.5970  1.7018\n",
            "\n",
            "Columns 81 to 900.01 *\n",
            "-0.3500 -0.2014 -1.5366 -1.0541 -0.6096  0.1993 -1.4579  0.9774 -0.7016  0.3292\n",
            "\n",
            "Columns 91 to 1000.01 *\n",
            " 0.1722 -1.1342  0.5101  0.5069  0.5204 -1.7475 -0.1253 -0.1367 -1.2452  1.7421\n",
            "\n",
            "Columns 101 to 1100.01 *\n",
            " 0.0583  0.5357 -0.1345 -0.4522 -2.2292 -2.1716  1.1994  1.2631 -0.7592 -0.0852\n",
            "\n",
            "Columns 111 to 1200.01 *\n",
            "-0.2019  1.3324  1.5875  1.4983  1.6214  0.5242 -1.6721 -0.3655  0.8740  0.4519\n",
            "\n",
            "Columns 121 to 1300.01 *\n",
            "-2.0883 -1.3220 -0.4974 -0.4638 -0.0122  0.9334  2.0381  1.3695  1.5990 -0.3515\n",
            "\n",
            "Columns 131 to 1400.01 *\n",
            " 1.3645 -0.7132 -0.4551  1.0417 -2.4202 -0.6248  0.6793 -0.3812  0.8019  1.4755\n",
            "\n",
            "Columns 141 to 1500.01 *\n",
            "-1.2342  1.1511 -0.9942 -0.9663  1.4500 -0.1853  0.2281 -1.4559  1.4338 -0.3632\n",
            "\n",
            "Columns 151 to 1600.01 *\n",
            "-0.1001  1.3165  0.8402 -0.7566 -0.1262  1.5879  1.2372  1.9969 -0.0112 -1.8207\n",
            "\n",
            "Columns 161 to 1700.01 *\n",
            " 0.0152  1.1864  1.4849  1.6479 -0.4830 -0.2198  0.6029 -0.7665  1.0499  0.3714\n",
            "\n",
            "Columns 171 to 1800.01 *\n",
            " 0.4507  0.3302  0.6636 -0.0595 -1.2116  0.3161 -1.1405  0.3647 -1.3830 -0.1672\n",
            "\n",
            "Columns 181 to 1900.01 *\n",
            "-0.0665  0.9225  0.4742 -1.3397  0.7292 -1.2919 -0.5339  0.2878  1.4775 -0.1297\n",
            "\n",
            "Columns 191 to 2000.01 *\n",
            "-0.9083 -1.7097  0.0147  0.1668  0.4728  0.6046  0.4442  1.1222 -1.1754  0.0022\n",
            "\n",
            "Columns 201 to 2100.01 *\n",
            " 0.0095  1.1467 -0.0519  0.5294  1.1608 -0.7954 -0.5457  1.9120  0.0357 -0.9059\n",
            "\n",
            "Columns 211 to 2200.01 *\n",
            " 0.0193  0.9072 -1.1446  1.0908  1.2238  1.5264 -0.5152  1.2554 -1.1952  0.2494\n",
            "\n",
            "Columns 221 to 2300.01 *\n",
            "-1.0989  0.6225 -1.0481 -1.0151 -1.7684 -1.1963 -0.5769 -0.2584 -1.5915 -0.6689\n",
            "\n",
            "Columns 231 to 2400.01 *\n",
            " 1.2985  1.7238 -1.3834  1.3492  1.0863 -0.0530 -0.5554  0.6503  0.3323 -1.1896\n",
            "\n",
            "Columns 241 to 2500.01 *\n",
            " 0.7796  1.4081  0.5752 -0.0842  0.6846  0.5339 -1.1039 -0.2337 -1.7271  0.9400\n",
            "\n",
            "Columns 251 to 2600.01 *\n",
            "-0.8320  0.0125  0.9563 -0.6205 -1.2848  0.6145  0.9145  1.7112 -1.1201  1.7938\n",
            "\n",
            "Columns 261 to 2700.01 *\n",
            "-1.5892 -0.3081 -0.5017 -1.3917  1.7035  0.1126  0.9203  0.6820  0.0623 -1.4457\n",
            "\n",
            "Columns 271 to 2800.01 *\n",
            " 1.0309  2.0863  0.9570  0.2503 -0.8704 -1.0598 -0.3063 -0.6153 -0.7654 -0.6957\n",
            "\n",
            "Columns 281 to 2900.01 *\n",
            "-1.1330 -1.9208  1.3140 -0.5615 -1.5951 -0.7589  0.8749 -1.2060  1.3657 -0.4273\n",
            "\n",
            "Columns 291 to 3000.01 *\n",
            " 0.8323  1.1875 -0.5788  1.9394 -0.1337  2.0792 -0.1929  0.0785 -0.5539 -1.1375\n",
            "\n",
            "Columns 301 to 3100.01 *\n",
            "-0.7458  1.1629 -0.3656 -1.3114 -1.1884 -0.3358  1.5177 -0.6865 -0.0765 -1.5190\n",
            "\n",
            "Columns 311 to 3200.01 *\n",
            " 0.3290 -0.5025 -0.8744  0.2422  0.1923 -1.1133 -0.2201 -1.2654  1.2008 -0.5491\n",
            "\n",
            "Columns 321 to 3300.01 *\n",
            "-0.7206  0.7363  1.0796  0.2268  0.6825 -0.7901  0.8636 -0.8573 -0.0247  0.3658\n",
            "\n",
            "Columns 331 to 3400.01 *\n",
            "-1.0977 -0.8347 -0.6745 -0.6038 -0.4884 -0.5578 -1.4343 -0.6295  1.0548 -0.8909\n",
            "\n",
            "Columns 341 to 3500.01 *\n",
            " 0.6719  1.4677 -1.1781 -1.4267  1.0939  1.0705 -1.7918 -2.6416  0.8894  0.3425\n",
            "\n",
            "Columns 351 to 3600.01 *\n",
            "-0.1246 -1.4641 -1.9492 -0.0504  1.1661  1.0505  0.0360 -1.3638  0.1899  0.0449\n",
            "\n",
            "Columns 361 to 3700.01 *\n",
            " 0.5652  1.1617 -0.4097  1.1412  1.6249 -0.6122 -1.2566 -1.8798  1.9352 -1.4584\n",
            "\n",
            "Columns 371 to 3800.01 *\n",
            "-1.1771  0.4040 -0.9757  0.9436  0.3033  0.7928  0.1990  0.2779  1.1520 -0.3916\n",
            "\n",
            "Columns 381 to 3900.01 *\n",
            " 0.1575  1.5955  1.7234 -1.8475 -1.5440 -1.2262  1.0570 -0.1092  0.0310 -1.0056\n",
            "\n",
            "Columns 391 to 4000.01 *\n",
            " 1.6791 -1.4499  1.2825 -0.2059 -1.0340 -0.5682  1.6605 -0.1074 -0.4873  0.2142\n",
            "\n",
            "Columns 401 to 4100.01 *\n",
            " 1.6085  0.9989  1.4965  0.2983  0.9145  1.2496 -0.4890 -0.3551  0.4215 -0.7129\n",
            "\n",
            "Columns 411 to 4200.01 *\n",
            " 0.3208 -1.0062  0.4133  0.0241 -1.5558  0.6604 -1.7354  1.4212 -1.2819 -0.0798\n",
            "\n",
            "Columns 421 to 4300.01 *\n",
            " 0.5754 -0.1984  0.2103 -0.3531  0.5152 -0.3386  0.9235 -0.9868  0.0119  0.9032\n",
            "\n",
            "Columns 431 to 4400.01 *\n",
            "-0.5098 -0.3343  0.7584  0.7546 -0.5210 -0.2420  1.5440  1.5700 -1.1437  0.6815\n",
            "\n",
            "Columns 441 to 4500.01 *\n",
            "-0.9511  0.3713 -1.5708 -0.4360  1.3545  0.6759  1.1686 -1.4534 -0.9330  1.6210\n",
            "\n",
            "Columns 451 to 4600.01 *\n",
            " 2.3300  0.4317  1.1089 -0.4297  1.0160 -0.6048 -1.6799  0.4420  0.5929  1.5705\n",
            "\n",
            "Columns 461 to 4700.01 *\n",
            " 1.9430  1.4770 -0.9863 -0.3111 -1.0326 -0.2182  0.1853 -1.5350 -1.2195  0.2585\n",
            "\n",
            "Columns 471 to 4800.01 *\n",
            "-1.2933 -0.4280  0.4871  1.5468  0.6086 -0.9226  0.2899 -0.1184 -0.2908  0.4882\n",
            "\n",
            "Columns 481 to 4900.01 *\n",
            "-1.0016  0.7217 -1.6811  0.8196  2.0903  0.3856 -0.3687  0.8591 -1.3736  0.2025\n",
            "\n",
            "Columns 491 to 5000.01 *\n",
            " 1.8227  1.1729  0.0616 -1.6879 -0.7355  1.1078 -0.9840  0.7349  1.5425  1.6419\n",
            "\n",
            "Columns 501 to 5100.01 *\n",
            " 0.8912  1.5022  1.1163  0.8550 -0.9060  1.4059 -0.9994 -0.4656  1.7800  0.8598\n",
            "\n",
            "Columns 511 to 5200.01 *\n",
            " 0.5986 -0.1906  0.3914 -1.5556  0.7583 -0.8494  0.6086 -0.1224  0.8013 -0.2893\n",
            "\n",
            "Columns 521 to 5300.01 *\n",
            "-0.2801  1.6445 -0.5160  0.3368  0.1602 -1.0638  0.4699  1.2513  0.7515  0.6679\n",
            "\n",
            "Columns 531 to 5400.01 *\n",
            "-0.6617  0.2657 -1.4352 -1.5987 -0.8070  0.4099 -0.1490  1.4208  0.9433 -2.0536\n",
            "\n",
            "Columns 541 to 5500.01 *\n",
            " 1.7607  0.7254 -1.1984 -0.0534  0.9524 -1.5335  1.2368  0.3866  1.6051 -0.4745\n",
            "\n",
            "Columns 551 to 5600.01 *\n",
            "-1.1376 -1.7320  1.0216 -0.2852  0.0404  0.6665 -1.1842 -1.1115  1.2643 -0.0921\n",
            "\n",
            "Columns 561 to 5700.01 *\n",
            " 0.8548 -1.9034 -1.1911  0.4620 -0.0762 -0.9887 -1.3426  0.0309  2.0911 -1.0621\n",
            "\n",
            "Columns 571 to 5800.01 *\n",
            " 1.4194 -0.1559  0.6646  1.0069  1.5650 -1.1168 -1.3241 -0.9781 -1.5375  1.5722\n",
            "\n",
            "Columns 581 to 5900.01 *\n",
            " 1.6170  0.2249  0.2210  1.2683 -0.5536 -0.4797 -0.5136  1.0849  1.1649 -0.3080\n",
            "\n",
            "Columns 591 to 6000.01 *\n",
            "-0.3636  1.2838 -0.1501 -0.1948  0.4514  0.2295  0.6794  0.0326 -1.3744  1.9349\n",
            "\n",
            "Columns 601 to 6100.01 *\n",
            "-0.3145  0.5278  0.2701  0.3944 -0.0751  1.2626  1.4967 -1.4241 -0.6256  1.2180\n",
            "\n",
            "Columns 611 to 6200.01 *\n",
            "-0.2670  0.2171  1.2988  0.6642  0.4662 -0.3920  0.1722  0.4540 -2.2119  0.3315\n",
            "\n",
            "Columns 621 to 6300.01 *\n",
            " 1.2737  0.2755  1.0073 -0.4174  1.3718 -0.6742 -1.9476 -1.1044  1.2652 -1.3653\n",
            "\n",
            "Columns 631 to 6400.01 *\n",
            " 0.3133  1.9068  1.3697  0.4434 -0.1229  1.2948  0.2696  1.3370 -1.0290 -0.0902\n",
            "\n",
            "Columns 641 to 6500.01 *\n",
            " 1.6902 -0.3594  1.8290  0.0322  0.0510  1.1003  0.5503 -0.6369  0.4715  0.7456\n",
            "\n",
            "Columns 651 to 6600.01 *\n",
            " 0.0475 -0.9242  1.1029 -0.5471  0.5191  0.2065  0.6841  1.9301  1.0770 -0.8567\n",
            "\n",
            "Columns 661 to 6700.01 *\n",
            "-0.7847  0.5884 -0.2247  0.1185  0.3495  0.0674  0.8897  0.8414 -0.8702  0.3786\n",
            "\n",
            "Columns 671 to 6800.01 *\n",
            "-1.8285 -0.1304  0.4393  1.6802 -1.4769 -0.7814 -1.5567 -1.2350 -1.2296 -0.0847\n",
            "\n",
            "Columns 681 to 6900.01 *\n",
            " 1.7259  0.3095 -0.4542 -0.3585  0.6749 -0.2961 -1.4485 -0.7956 -0.9387  1.1028\n",
            "\n",
            "Columns 691 to 7000.01 *\n",
            "-0.4247  1.8679  1.0908 -0.2155 -0.0881 -0.6614 -1.0605  1.0051 -1.1698 -0.8633\n",
            "\n",
            "Columns 701 to 7100.01 *\n",
            "-0.6548  0.9890  0.7602  1.2364  0.4230  0.7213  1.3003 -1.6704  1.2229 -1.2330\n",
            "\n",
            "Columns 711 to 7200.01 *\n",
            " 0.4680 -0.8062 -0.4454 -0.4096  1.8294 -0.4426 -1.3429 -1.7641  0.4051 -0.4255\n",
            "\n",
            "Columns 721 to 7300.01 *\n",
            " 0.4321  1.7709  0.7802 -0.2230  0.6645  1.0363 -1.4043  0.7458  0.5719  0.7339\n",
            "\n",
            "Columns 731 to 7400.01 *\n",
            "-0.3582  1.4950 -0.8994  0.5355  1.0426  1.0130  0.9492 -0.4137 -0.0954 -0.4053\n",
            "\n",
            "Columns 741 to 7500.01 *\n",
            " 1.5893 -0.6328 -0.3342  1.0505 -0.4139 -0.0485 -0.3821  0.5374  0.5951 -0.0822\n",
            "\n",
            "Columns 751 to 7600.01 *\n",
            "-1.3056  1.6036 -1.1033  0.6947  0.0475 -0.5182  0.0009  0.5924  1.0656  0.4535\n",
            "\n",
            "Columns 761 to 7700.01 *\n",
            "-0.7061 -1.3339  0.7902  1.1806 -2.0261 -1.2019 -0.7909  1.2139 -0.9295  0.7458\n",
            "\n",
            "Columns 771 to 7800.01 *\n",
            "-1.2742 -0.9697 -0.0463 -1.8057  0.3821  0.6397 -0.6539  1.2542  0.2717  0.3592\n",
            "\n",
            "Columns 781 to 7900.01 *\n",
            " 0.5995  0.2639  1.0995 -0.7441 -1.0555 -0.3142  0.5841  0.5866 -2.6042 -0.2471\n",
            "\n",
            "Columns 791 to 8000.01 *\n",
            "-1.7263 -0.3228 -0.7371  0.2339 -1.8069 -0.8044 -1.2459  0.9407 -0.5358 -0.8989\n",
            "\n",
            "Columns 801 to 8100.01 *\n",
            " 1.2676  1.2047 -1.9507 -0.1358 -0.2555 -0.7159 -0.0892 -1.0082  0.0322 -0.2103\n",
            "\n",
            "Columns 811 to 8200.01 *\n",
            " 0.2567  0.8014  0.1278 -0.1639 -1.5278 -0.4236  1.0251 -1.0550 -0.2615  1.4267\n",
            "\n",
            "Columns 821 to 8300.01 *\n",
            "-0.3149 -1.4535 -0.1117  1.3193  1.3323 -1.1421  1.1133 -0.4723 -0.0005  0.2503\n",
            "\n",
            "Columns 831 to 8400.01 *\n",
            "-0.6725  0.0890 -1.4940 -0.4625 -1.7738 -2.4089 -1.2044  1.8350  1.3323  0.8176\n",
            "\n",
            "Columns 841 to 8500.01 *\n",
            "-0.7001 -0.4886  1.2812  0.7422  0.1271 -1.4562  0.8467  0.6342 -0.6471  1.2932\n",
            "\n",
            "Columns 851 to 8600.01 *\n",
            "-1.9996 -0.4045 -1.6191 -0.8622 -0.1522  0.1905 -0.8949  0.2461 -0.3859 -0.5887\n",
            "\n",
            "Columns 861 to 8700.01 *\n",
            "-0.1210 -0.5900  0.4414  1.0143 -0.0176  0.3661 -0.1330  0.7637  0.9367 -0.1930\n",
            "\n",
            "Columns 871 to 8800.01 *\n",
            " 1.7421 -0.1433  1.4583  2.0497  0.0288 -0.7380 -1.5027 -0.9873  0.6988 -0.5064\n",
            "\n",
            "Columns 881 to 8900.01 *\n",
            " 0.2181 -0.0505 -1.1907 -1.0511  0.6593  1.3371 -1.7903  1.5619  1.8095 -1.1836\n",
            "\n",
            "Columns 891 to 9000.01 *\n",
            " 1.1504 -0.2830 -0.4170 -0.9691  1.0694  0.8913 -0.1366  1.3385 -1.1666  0.8334\n",
            "\n",
            "Columns 901 to 9100.01 *\n",
            " 1.7233 -0.3919 -0.8758  0.4262  0.8992  1.1224  0.0594  1.2607  1.8590  0.0880\n",
            "\n",
            "Columns 911 to 9200.01 *\n",
            " 2.2625 -1.4748  0.6697 -0.2405  0.4725  0.6515  1.0296  0.9711  0.1599  1.3959\n",
            "\n",
            "Columns 921 to 9300.01 *\n",
            " 0.1563 -0.7763 -0.0824 -0.2632 -1.7805  0.0941  1.3418 -1.2086  0.4355  1.2184\n",
            "\n",
            "Columns 931 to 9400.01 *\n",
            "-0.4191 -1.7516 -1.7524 -0.6666 -1.3042  0.6617 -0.1043  0.1920 -1.1727  0.2799\n",
            "\n",
            "Columns 941 to 9500.01 *\n",
            " 1.1023 -0.2646  1.6464 -0.4340 -1.0392  1.9878  0.9481  0.2089 -0.5271  1.1558\n",
            "\n",
            "Columns 951 to 9600.01 *\n",
            " 1.8245 -0.8386  0.0841 -1.3167  0.4210 -0.1744 -0.4132 -0.6910  1.5105 -1.4370\n",
            "\n",
            "Columns 961 to 9700.01 *\n",
            " 0.2545  0.6113  1.4866 -0.6272 -0.0452  1.5182 -0.8097  0.3585  0.5880  0.5206\n",
            "\n",
            "Columns 971 to 9800.01 *\n",
            "-1.1420  0.3055  0.4641 -0.4857 -0.6063 -0.0436 -1.2942 -0.4171 -0.5906 -1.2153\n",
            "\n",
            "Columns 981 to 9900.01 *\n",
            " 0.0015  0.7190 -0.6674  0.0893  1.1376 -0.9177 -0.7883 -0.8965 -0.1744  0.2638\n",
            "\n",
            "Columns 991 to 10000.01 *\n",
            "-0.8418 -0.7219 -1.5682  1.2082 -0.8239  1.4997 -1.1612  0.8287  1.7247 -0.0788\n",
            "[ CPUFloatType{1,1000} ]\n"
          ],
          "name": "stdout"
        }
      ]
    }
  ]
}