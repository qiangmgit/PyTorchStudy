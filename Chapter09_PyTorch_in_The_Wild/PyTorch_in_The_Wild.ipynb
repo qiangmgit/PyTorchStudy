{
  "nbformat": 4,
  "nbformat_minor": 0,
  "metadata": {
    "colab": {
      "name": "PyTorch_in_The_Wild.ipynb",
      "provenance": [],
      "collapsed_sections": []
    },
    "kernelspec": {
      "name": "python3",
      "display_name": "Python 3"
    },
    "language_info": {
      "name": "python"
    },
    "accelerator": "GPU"
  },
  "cells": [
    {
      "cell_type": "markdown",
      "metadata": {
        "id": "RPZJHpABR0Wt"
      },
      "source": [
        "This chapter is to show the wider and deeper application of PyTorch."
      ]
    },
    {
      "cell_type": "markdown",
      "metadata": {
        "id": "AedqHv0DR8RU"
      },
      "source": [
        "In previous image classification tasks, the model's output is either 0 or 1. mixup is a technique to make model target for making predictions with probabilities. Before trying it we need to set up the dataset as usual. Clone a folder from ./drive/MyDrive/image_classification_test/ (should be available after studying previous chapters) to a new folder ./drive/MyDrive/image_classification_test_mixup, and in this new folder, move half of the images from train folder to a new folder named mix."
      ]
    },
    {
      "cell_type": "code",
      "metadata": {
        "id": "OYrTYoYPAh0E",
        "colab": {
          "base_uri": "https://localhost:8080/"
        },
        "outputId": "d4ce136f-432b-4a71-fe6b-311db52c1545"
      },
      "source": [
        "from google.colab import drive\n",
        "drive.mount('/content/drive')"
      ],
      "execution_count": 2,
      "outputs": [
        {
          "output_type": "stream",
          "text": [
            "Mounted at /content/drive\n"
          ],
          "name": "stdout"
        }
      ]
    },
    {
      "cell_type": "code",
      "metadata": {
        "id": "bLtoWZcpUBt0",
        "colab": {
          "base_uri": "https://localhost:8080/"
        },
        "outputId": "cc37643f-05eb-405b-c6b9-b66f6239c0f6"
      },
      "source": [
        "# PIL is a widely used python image library\n",
        "import PIL\n",
        "from PIL import Image, ImageFile\n",
        "\n",
        "import torchvision\n",
        "from torchvision import transforms\n",
        "from torch.utils import data\n",
        "\n",
        "import torch\n",
        "import torch.nn as nn\n",
        "import torch.nn.functional as F\n",
        "import torch.optim as optim\n",
        "import torchvision.models as models\n",
        "\n",
        "# this is to prevent image file to be too large\n",
        "ImageFile.LOAD_TRUNCATED_IMAGES = True \n",
        "\n",
        "workspace_path = \"./drive/MyDrive/image_classification_test_mixup/\"\n",
        "train_data_path = workspace_path + \"/train/\"\n",
        "val_data_path = workspace_path + \"/val/\"\n",
        "test_data_path = workspace_path + \"/test/\"\n",
        "mix_data_path = workspace_path + \"/mix/\"\n",
        "\n",
        "# check if this image exists\n",
        "img = Image.open(val_data_path + \"/fish/100_1422.JPG\")\n",
        "print(img.size)"
      ],
      "execution_count": null,
      "outputs": [
        {
          "output_type": "stream",
          "text": [
            "(512, 342)\n"
          ],
          "name": "stdout"
        }
      ]
    },
    {
      "cell_type": "code",
      "metadata": {
        "id": "MZHoELPVUI_N"
      },
      "source": [
        "# this function is very important, otherwise quite a few images won't be opened successfully, causing script's runtime error.\n",
        "def check_image(path):\n",
        "  try:\n",
        "    Image.open(path)\n",
        "    return True\n",
        "  except:\n",
        "    return False\n",
        "\n",
        "img_transforms = transforms.Compose([\n",
        "    transforms.Resize((64, 64)), # resize image\n",
        "    transforms.ToTensor(), # store image data in tensor\n",
        "    transforms.Normalize(mean = [0.485, 0.456, 0.406], std = [0.229, 0.224, 0.225])\n",
        "    # the above normalization follows distribution of ImageNet dataset\n",
        "    ])\n",
        "\n",
        "train_data = torchvision.datasets.ImageFolder(root = train_data_path, transform = img_transforms, is_valid_file=check_image)\n",
        "\n",
        "val_data = torchvision.datasets.ImageFolder(root = val_data_path, transform = img_transforms, is_valid_file=check_image)\n",
        "\n",
        "test_data = torchvision.datasets.ImageFolder(root = test_data_path, transform = img_transforms, is_valid_file=check_image)\n",
        "\n",
        "mix_data = torchvision.datasets.ImageFolder(root = mix_data_path, transform = img_transforms, is_valid_file=check_image)\n",
        "\n",
        "# load data in a batch\n",
        "batch_size = 4\n",
        "train_data_loader = data.DataLoader(train_data, batch_size = batch_size)\n",
        "val_data_loader = data.DataLoader(val_data, batch_size = batch_size)\n",
        "test_data_loader = data.DataLoader(test_data, batch_size = batch_size)\n",
        "mix_data_loader = data.DataLoader(mix_data, batch_size = batch_size)\n",
        "# check how many images get loaded\n",
        "print(len(train_data_loader.dataset))\n",
        "print(len(val_data_loader.dataset))\n",
        "print(len(test_data_loader.dataset))\n",
        "print(len(mix_data_loader.dataset))\n",
        "\n",
        "\n",
        "# adjust the image number in each folder if the following assertions fail\n",
        "assert len(train_data_loader.dataset) == len(mix_data_loader.dataset)\n",
        "assert len(train_data_loader.dataset) % batch_size == 0\n",
        "assert len(val_data_loader.dataset) % batch_size == 0\n",
        "assert len(test_data_loader.dataset) % batch_size == 0"
      ],
      "execution_count": null,
      "outputs": []
    },
    {
      "cell_type": "code",
      "metadata": {
        "id": "uAG1jqCkULqt"
      },
      "source": [
        "class cnn_net(nn.Module):\n",
        "    # num_classes is for how many target categories for image classification\n",
        "    def __init__(self, num_classes=2):\n",
        "        super(cnn_net, self).__init__()\n",
        "        # search for nn.Sequential for more info if needed; basically it can be used\n",
        "        # as a block of layers, used to build a larger network\n",
        "        rgb_channel_num = 3\n",
        "        final_output_feature = 256\n",
        "        self.features = nn.Sequential(\n",
        "            # search for Conv2d's parameters like stride, padding for more info\n",
        "            # check this https://stackoverflow.com/a/49818579 for knowledge about how are \n",
        "            # conv2d weights are initialized by default\n",
        "            nn.Conv2d(rgb_channel_num, 64, kernel_size = 11, stride = 4, padding = 2),\n",
        "            # introduced in Chapter 2\n",
        "            nn.ReLU(),\n",
        "            # search for MaxPool2d for more info if needed\n",
        "            nn.MaxPool2d(kernel_size = 3, stride = 2),\n",
        "            # note the relationship between each layer's output channel number and\n",
        "            # the next layer's input channel number\n",
        "            nn.Conv2d(64, 192, kernel_size = 5, padding = 2),\n",
        "            nn.ReLU(),\n",
        "            nn.MaxPool2d(kernel_size = 3, stride = 2),\n",
        "            nn.Conv2d(192, 384, kernel_size = 3, padding = 1),\n",
        "            nn.ReLU(),\n",
        "            nn.Conv2d(384, 256, kernel_size = 3, padding = 1),\n",
        "            nn.ReLU(),\n",
        "            nn.Conv2d(256, final_output_feature, kernel_size = 3, padding = 1),\n",
        "            nn.ReLU(),\n",
        "            nn.MaxPool2d(kernel_size = 3, stride = 2),\n",
        "        )\n",
        "        # search for AdaptiveAvgPool2d for more info if needed\n",
        "        avg_pool_kernel_size = (6, 6)\n",
        "        self.avg_pool = nn.AdaptiveAvgPool2d(avg_pool_kernel_size)\n",
        "        self.classifier = nn.Sequential(\n",
        "            # search for Dropout for more info if needed, an important method for \n",
        "            # model generalisation\n",
        "            # note the affect of dropout ratio here, which is 0.5 by default.\n",
        "            # Also note the behavioral difference for Dropout layer between training mode \n",
        "            # and eval mode\n",
        "            nn.Dropout(),\n",
        "            # search for nn Linear's definition if needed\n",
        "            # note the relationship between each layer's output channel number and\n",
        "            # the next layer's input channel number\n",
        "            nn.Linear(final_output_feature * avg_pool_kernel_size[0] * avg_pool_kernel_size[1], 4096),\n",
        "            nn.ReLU(),\n",
        "            nn.Dropout(),\n",
        "            nn.Linear(4096, 4096),\n",
        "            nn.ReLU(),\n",
        "            # note the final output layer should match num_classes\n",
        "            nn.Linear(4096, num_classes)\n",
        "        )\n",
        "\n",
        "    # note how the Sequentials defined above are used in forwarding\n",
        "    def forward(self, x):\n",
        "        x = self.features(x)\n",
        "        x = self.avg_pool(x)\n",
        "        # reshape into one dimension\n",
        "        x = torch.flatten(x, 1)\n",
        "        x = self.classifier(x)\n",
        "        return x"
      ],
      "execution_count": null,
      "outputs": []
    },
    {
      "cell_type": "markdown",
      "metadata": {
        "id": "toH46_MOALfY"
      },
      "source": [
        "The difference is that in training we are going to apply a new loss function. The related paper is https://arxiv.org/abs/1710.09412.\n"
      ]
    },
    {
      "cell_type": "code",
      "metadata": {
        "id": "xxPVYSdQUMN1"
      },
      "source": [
        "my_model = cnn_net()\n",
        "# search for Adam optimizer for more info if needed\n",
        "# note learning rate 3e-4 is quite famous, as it was recommended widely in academic research\n",
        "# using a even smaller learning rate has a better chance to learn with small dataset\n",
        "# using a larger learning rate would cause the network to learn very slowly\n",
        "optimizer = optim.Adam(my_model.parameters(), lr = 0.0001)\n",
        "\n",
        "# copy the model to device\n",
        "if torch.cuda.is_available():\n",
        "  device = torch.device(\"cuda\")\n",
        "else:\n",
        "  device = torch.device(\"cpu\")\n",
        "my_model.to(device)\n",
        "\n",
        "def loss_update_mixup(model, batch, loss_fn, device, check_result):\n",
        "    (inputs, targets), (inputs_mix, targets_mix) = batch\n",
        "    inputs = inputs.to(device)\n",
        "    targets = targets.to(device)\n",
        "    inputs_mix = inputs_mix.to(device)\n",
        "    targets_mix = targets_mix.to(device)\n",
        "\n",
        "    distribution = torch.distributions.beta.Beta(0.5, 0.5)\n",
        "    # expand the distribution parameters in NCHW format\n",
        "    beta = distribution.expand(torch.zeros(batch_size).shape).sample().to(device)\n",
        "    mixup = beta[:, None, None, None]\n",
        "    \n",
        "    output = model(mixup * inputs + (1 - mixup) * inputs)\n",
        "    target_final = (beta * targets + (1 - beta) * targets_mix).to(dtype = torch.long)\n",
        "    loss = loss_fn(output, target_final)\n",
        "    num_current_correct = 0\n",
        "    if (check_result):\n",
        "        result = torch.eq(torch.max(F.softmax(output, dim = 1), dim = 1)[1], target_final)\n",
        "        num_current_correct = torch.sum(result).item()\n",
        "    return loss, num_current_correct\n",
        "\n",
        "def train_mixup(model, optimizer, loss_fn, train_data_loader, val_data_loader, mix_data_loader, epochs, device):\n",
        "  for epoch in range(epochs):\n",
        "    training_loss = 0.0\n",
        "    valid_loss = 0.0\n",
        "    # this is to set model in training mode\n",
        "    model.train()\n",
        "    check_result = False\n",
        "    # training process\n",
        "    for batch in zip(train_data_loader, mix_data_loader):\n",
        "      optimizer.zero_grad()\n",
        "      loss = loss_update_mixup(model, batch, loss_fn, device, check_result)[0]\n",
        "      loss.backward()\n",
        "      optimizer.step()\n",
        "      training_loss += loss.data.item() * batch_size\n",
        "    training_loss /= len(train_data_loader.dataset)\n",
        "\n",
        "    # this is to set model in evaluation mode\n",
        "    model.eval()\n",
        "    check_result = True\n",
        "    num_correct = 0\n",
        "    num_examples = 0\n",
        "    for batch in zip(val_data_loader, mix_data_loader):\n",
        "      loss, num_current_correct= loss_update_mixup(model, batch, loss_fn, device, check_result)\n",
        "      valid_loss += loss.data.item() * batch_size\n",
        "      num_correct += num_current_correct\n",
        "      num_examples += batch_size\n",
        "    valid_loss /= len(val_data_loader.dataset)\n",
        "\n",
        "    print('Epoch: {}, Training Loss: {:.2f}, Validation Loss: {:.2f}, accuracy = {:.2f}'.format(epoch, training_loss, valid_loss, num_correct / num_examples))\n",
        "\n",
        "# modify the number of epochs to check how loss and accuracy changes with more training\n",
        "# note this model needs a few more epochs to learn\n",
        "train_mixup(my_model, optimizer, torch.nn.CrossEntropyLoss(), train_data_loader, val_data_loader, mix_data_loader, 2, device)"
      ],
      "execution_count": null,
      "outputs": []
    },
    {
      "cell_type": "markdown",
      "metadata": {
        "id": "ON46Y6f0Q24_"
      },
      "source": [
        "Another way of mixing up is to perform shuffling on the train data loader, to relax the requirement that the data loader must be balanced across batches."
      ]
    },
    {
      "cell_type": "code",
      "metadata": {
        "id": "AAn2agbrQ2Tw"
      },
      "source": [
        "def loss_update_mixup_shuffle(model, batch, loss_fn, device, check_result):\n",
        "    (inputs, targets) = batch\n",
        "    shuffle = torch.randperm(inputs.size(0))\n",
        "    inputs = inputs.to(device)\n",
        "    targets = targets.to(device)\n",
        "    inputs_mix = inputs[shuffle]\n",
        "    targets_mix = targets[shuffle]\n",
        "\n",
        "    distribution = torch.distributions.beta.Beta(0.5, 0.5)\n",
        "    # expand the distribution parameters in NCHW format\n",
        "    beta = distribution.expand(torch.zeros(batch_size).shape).sample().to(device)\n",
        "    mixup = beta[:, None, None, None]\n",
        "    \n",
        "    output = model(mixup * inputs + (1 - mixup) * inputs)\n",
        "    target_final = (beta * targets + (1 - beta) * targets_mix).to(dtype = torch.long)\n",
        "    loss = loss_fn(output, target_final)\n",
        "    num_current_correct = 0\n",
        "    if (check_result):\n",
        "        result = torch.eq(torch.max(F.softmax(output, dim = 1), dim = 1)[1], target_final)\n",
        "        num_current_correct = torch.sum(result).item()\n",
        "    return loss, num_current_correct\n",
        "\n",
        "def train_mixup_shuffle(model, optimizer, loss_fn, train_data_loader, val_data_loader, epochs, device):\n",
        "  for epoch in range(epochs):\n",
        "    training_loss = 0.0\n",
        "    valid_loss = 0.0\n",
        "    # this is to set model in training mode\n",
        "    model.train()\n",
        "    check_result = False\n",
        "    # training process\n",
        "    for batch in train_data_loader:\n",
        "      optimizer.zero_grad()\n",
        "      loss = loss_update_mixup_shuffle(model, batch, loss_fn, device, check_result)[0]\n",
        "      loss.backward()\n",
        "      optimizer.step()\n",
        "      training_loss += loss.data.item() * batch_size\n",
        "    training_loss /= len(train_data_loader.dataset)\n",
        "\n",
        "    # this is to set model in evaluation mode\n",
        "    model.eval()\n",
        "    check_result = True\n",
        "    num_correct = 0\n",
        "    num_examples = 0\n",
        "    for batch in val_data_loader:\n",
        "      loss, num_current_correct= loss_update_mixup_shuffle(model, batch, loss_fn, device, check_result)\n",
        "      valid_loss += loss.data.item() * batch_size\n",
        "      num_correct += num_current_correct\n",
        "      num_examples += batch_size\n",
        "    valid_loss /= len(val_data_loader.dataset)\n",
        "\n",
        "    print('Epoch: {}, Training Loss: {:.2f}, Validation Loss: {:.2f}, accuracy = {:.2f}'.format(epoch, training_loss, valid_loss, num_correct / num_examples))\n",
        "\n",
        "# modify the number of epochs to check how loss and accuracy changes with more training\n",
        "# note this model needs a few more epochs to learn\n",
        "train_mixup_shuffle(my_model, optimizer, torch.nn.CrossEntropyLoss(), train_data_loader, val_data_loader, 2, device)"
      ],
      "execution_count": null,
      "outputs": []
    },
    {
      "cell_type": "markdown",
      "metadata": {
        "id": "xrl24YQtVFr_"
      },
      "source": [
        "Label Smoothing is another way to make model provide a less determined prediction result, and often gains a better accuracy improvement during training. It applies a new loss function, as can be seen in the following, which makes the prediction output be 1 minus epsilon. Epsilon is a small valued parameter."
      ]
    },
    {
      "cell_type": "code",
      "metadata": {
        "id": "68dnhWv7QmL4"
      },
      "source": [
        "class LabelSmoothingCrossEntropyLoss(nn.Module):\n",
        "    def __init__(self, epsilon = 0.1):\n",
        "        super(LabelSmoothingCrossEntropyLoss, self).__init__()\n",
        "        self.epsilon = epsilon\n",
        "    def forward(self, output, target):\n",
        "        num_classes = output.size()[-1]\n",
        "        log_preds = F.log_softmax(output, dim = -1)\n",
        "        loss = (-log_preds.sum(dim = -1)).mean()\n",
        "        # negative log likelihood loss\n",
        "        nll = F.nll_loss(log_preds, target)\n",
        "        return self.epsilon * loss / num_classes + (1 - self.epsilon) * nll\n"
      ],
      "execution_count": null,
      "outputs": []
    },
    {
      "cell_type": "markdown",
      "metadata": {
        "id": "3Jj55gdSRzs2"
      },
      "source": [
        "According to the book, label smoothing works well with mixup."
      ]
    },
    {
      "cell_type": "code",
      "metadata": {
        "id": "bkuScgLAgtTL"
      },
      "source": [
        "train_mixup_shuffle(my_model, optimizer, LabelSmoothingCrossEntropyLoss(), train_data_loader, val_data_loader, 2, device)"
      ],
      "execution_count": null,
      "outputs": []
    },
    {
      "cell_type": "markdown",
      "metadata": {
        "id": "BRuj6I1jhW9n"
      },
      "source": [
        "In the following we are going to define a super-resolution model. The key layer is the upsample layer. "
      ]
    },
    {
      "cell_type": "code",
      "metadata": {
        "id": "v8kqd5bWi6UC"
      },
      "source": [
        "class sr_net(nn.Module):\n",
        "    def __init__(self):\n",
        "        super(sr_net, self).__init__()\n",
        "        self.features = nn.Sequential(\n",
        "            nn.Conv2d(3, 64, kernel_size = 8, stride = 4, padding = 2),\n",
        "            nn.ReLU(inplace = True),\n",
        "            nn.Conv2d(64, 192, kernel_size = 2, padding = 2),\n",
        "            nn.ReLU(inplace = True),\n",
        "            nn.Conv2d(192, 256, kernel_size = 2, padding = 2),\n",
        "            nn.ReLU(inplace = True)\n",
        "        )\n",
        "        self.upsample = nn.Sequential(\n",
        "            nn.ConvTranspose2d(256, 192, kernel_size = 2, padding = 2),\n",
        "            nn.ReLU(inplace = True),\n",
        "            nn.ConvTranspose2d(192, 64, kernel_size = 2, padding = 2),\n",
        "            nn.ReLU(inplace = True),\n",
        "            nn.ConvTranspose2d(64, 3, kernel_size = 8, stride = 4, padding = 2),\n",
        "            nn.ReLU(inplace = True),\n",
        "            nn.ConvTranspose2d(3, 3, kernel_size = 2, stride = 2),\n",
        "            nn.ReLU(inplace = True),\n",
        "            nn.Conv2d(3, 3, kernel_size = 2, stride = 2),\n",
        "            nn.ReLU(inplace = True),\n",
        "        )\n",
        "    def forward(self, x):\n",
        "        x = self.features(x)\n",
        "        x = self.upsample(x)\n",
        "        return x\n",
        "\n",
        "my_model = sr_net()\n",
        "output = my_model(torch.rand(1, 3, 224, 224))\n",
        "print(output.shape)"
      ],
      "execution_count": null,
      "outputs": []
    },
    {
      "cell_type": "markdown",
      "metadata": {
        "id": "uZUhs3KVvurf"
      },
      "source": [
        "GAN is a way of feeding more data to neural networks by adding a generator in the network and train the network to distinguish between real data and generated data. The book doesn't provide a solid example of GAN, so we will skip the code demo."
      ]
    },
    {
      "cell_type": "markdown",
      "metadata": {
        "id": "NBMkCgaAxPAW"
      },
      "source": [
        "ESRGAN applies GAN for image super-resolution enhancement. We are going to try it out. In Google Drive, create a new folder called esrgan_test. The steps are from https://github.com/xinntao/ESRGAN."
      ]
    },
    {
      "cell_type": "code",
      "metadata": {
        "id": "YJqbNTIKxpCm"
      },
      "source": [
        "%cd /content/drive/MyDrive/esrgan_test/\n",
        "!git clone https://github.com/xinntao/ESRGAN"
      ],
      "execution_count": null,
      "outputs": []
    },
    {
      "cell_type": "markdown",
      "metadata": {
        "id": "vnGxhIIpx_tn"
      },
      "source": [
        "Download the model from https://drive.google.com/drive/u/0/folders/17VYV_SoZZesU6mbxz2dMAIccSSlqLecY (select the RRDB_ESRGAN_x4.pth, details in https://github.com/xinntao/ESRGAN/blob/master/models/README.md) and put it in esrgan_test/models/ folder.\n",
        "\n",
        "In test.py, update the model path and test_img_folder, and the final cv imwrite location.\n",
        "\n",
        "You can put new input images in the LR folder. Here we are going to use the ones provided by the author."
      ]
    },
    {
      "cell_type": "code",
      "metadata": {
        "id": "Z7Ul8cQazW9d"
      },
      "source": [
        "# run the script and check the output in results folder.\n",
        "!rm -rf /content/drive/MyDrive/esrgan_test/ESRGAN/results/*\n",
        "!python /content/drive/MyDrive/esrgan_test/ESRGAN/test.py"
      ],
      "execution_count": null,
      "outputs": []
    },
    {
      "cell_type": "markdown",
      "metadata": {
        "id": "vAx0uu8J1L4F"
      },
      "source": [
        "The following shows an example of using Facebook's Mask R-CNN for object detection and segmentation. The repo is at https://github.com/facaebookresearch/maskrcnn-benchmark. In Google Drive, create a new folder named mask_rcnn_test."
      ]
    },
    {
      "cell_type": "code",
      "metadata": {
        "id": "iJ2f26AoxJDx"
      },
      "source": [
        "%cd /content/drive/MyDrive/mask_rcnn_test/\n",
        "!git clone https://github.com/facebookresearch/maskrcnn-benchmark"
      ],
      "execution_count": null,
      "outputs": []
    },
    {
      "cell_type": "markdown",
      "metadata": {
        "id": "tDZsO9IAy4BB"
      },
      "source": [
        "Add the following code in test.py in demo folder. Also put an input image in demo folder, like \"demo/input.jpg\".\n",
        "\n"
      ]
    },
    {
      "cell_type": "code",
      "metadata": {
        "id": "AyfohqP2y78b"
      },
      "source": [
        "import matplotlib.pyplot as plt\n",
        "from PIL import Image\n",
        "import numpy as np\n",
        "import sys\n",
        "from maskrcnn_benchmark.config import cfg\n",
        "from predictor import COCODemo\n",
        "\n",
        "config_file = \"../configs/caffe2/e2e_faster_rcnn_R_101_FPN_1x_caffe2.yaml\"\n",
        "\n",
        "cfg.merge_from_file(config_file)\n",
        "cfg.merge_from_list([\"MODEL.DEVICE\", \"cpu\"])\n",
        "\n",
        "coco_demo = COCODemo(\n",
        "    cfg,\n",
        "    min_image_size = 500,\n",
        "    confidence_threshold = 0.7,\n",
        ")\n",
        "\n",
        "img = Image.open(sys.argv[1])\n",
        "# turn into BGR format as the demo is trained on BGR images\n",
        "img = np.array(img)[:, :, [2, 1, 0]]\n",
        "predictions = coco_demo.run_on_opencv_image(image)\n",
        "predictions = predictions[:, :, ::-1]\n",
        "\n",
        "plt.imsave(sys.argv[2], predictions)"
      ],
      "execution_count": null,
      "outputs": []
    },
    {
      "cell_type": "code",
      "metadata": {
        "id": "GA4ombCq7uth"
      },
      "source": [
        "!pip install ninja yacs"
      ],
      "execution_count": null,
      "outputs": []
    },
    {
      "cell_type": "code",
      "metadata": {
        "id": "PIaw55YV2xwp"
      },
      "source": [
        "%cd /content/drive/MyDrive/mask_rcnn_test/\n",
        "!git clone https://github.com/NVIDIA/apex.git\n",
        "%cd /content/drive/MyDrive/mask_rcnn_test/apex\n",
        "# commenting out Line check_cuda_torch_binary_vs_bare_metal to suppress checking error\n",
        "!python setup.py install --cuda_ext --cpp_ext"
      ],
      "execution_count": null,
      "outputs": []
    },
    {
      "cell_type": "markdown",
      "metadata": {
        "id": "Ykgi8xr6SwAC"
      },
      "source": [
        "In /content/drive/MyDrive/mask_rcnn_test/maskrcnn-benchmark/maskrcnn_benchmark/csrc/cuda, on the top of deform_conv_cuda.cu and deform_pool_cuda.cu, add the following code (check https://github.com/mrlooi/rotated_maskrcnn/issues/31 for details)."
      ]
    },
    {
      "cell_type": "code",
      "metadata": {
        "id": "4P47oOUqSuhD"
      },
      "source": [
        "#ifndef AT_CHECK\n",
        "#define AT_CHECK TORCH_CHECK \n",
        "#endif"
      ],
      "execution_count": null,
      "outputs": []
    },
    {
      "cell_type": "code",
      "metadata": {
        "id": "uQN6KCtQ0t5A"
      },
      "source": [
        "%cd /content/drive/MyDrive/mask_rcnn_test/maskrcnn-benchmark/\n",
        "%\n",
        "!python setup.py build develop\n",
        "%cd /content/drive/MyDrive/mask_rcnn_test/maskrcnn-benchmark/demo"
      ],
      "execution_count": null,
      "outputs": []
    },
    {
      "cell_type": "code",
      "metadata": {
        "id": "GP5yH8ZuTfni"
      },
      "source": [
        "# run the test\n",
        "%cd /content/drive/MyDrive/mask_rcnn_test/maskrcnn-benchmark/demo\n",
        "# in utils/imports.py, modify torch._six.PY3 to be torch._six.PY37\n",
        "# do the same for c2_model_loading.py\n",
        "!python3 test.py /content/drive/MyDrive/mask_rcnn_test/maskrcnn-benchmark/demo/input.jpg /content/drive/MyDrive/mask_rcnn_test/maskrcnn-benchmark/demo/output.jpg\n",
        "# check the output image, as can be seen a bounding box is marked on the image"
      ],
      "execution_count": null,
      "outputs": []
    },
    {
      "cell_type": "markdown",
      "metadata": {
        "id": "MvBbn8bd1d40"
      },
      "source": [
        "The book provides an example of adversarial samples, which can be used to make a neural network confused in tests like image classification, as shown in the following. In Google Drive, make a new directory called model_break_test and copy the casper2.jpg from Chapter 7 into it."
      ]
    },
    {
      "cell_type": "code",
      "metadata": {
        "colab": {
          "base_uri": "https://localhost:8080/"
        },
        "id": "Q8KKQJ70ELry",
        "outputId": "1b0443c3-ab3c-4d86-e275-ce13d0202b99"
      },
      "source": [
        "import torch\n",
        "from torchvision import models, transforms\n",
        "from PIL import Image\n",
        "from torch.nn import functional as F\n",
        "\n",
        "img = Image.open(\"./drive/MyDrive/model_break_test/casper2.jpg\")\n",
        "my_transform = transforms.Compose([\n",
        "    transforms.Resize((224, 224)),\n",
        "    transforms.ToTensor()                                \n",
        "])\n",
        "img_tensor = my_transform(img).unsqueeze(0)\n",
        "my_model = models.resnet18(pretrained = True)\n",
        "my_model.eval()\n",
        "prediction = my_model(img_tensor)\n",
        "pred_probabilities = F.softmax(prediction, dim = 1).data.squeeze()\n",
        "print(\"before breaking, the output result is\")\n",
        "target = torch.topk(pred_probabilities, 1)[1]\n",
        "print(target.item())\n"
      ],
      "execution_count": null,
      "outputs": [
        {
          "output_type": "stream",
          "text": [
            "before breaking, the output result is\n",
            "283\n"
          ],
          "name": "stdout"
        }
      ]
    },
    {
      "cell_type": "markdown",
      "metadata": {
        "id": "TrqcGLwSFfUC"
      },
      "source": [
        "Then we are going to create a misleading image and send it to the neural network."
      ]
    },
    {
      "cell_type": "code",
      "metadata": {
        "colab": {
          "base_uri": "https://localhost:8080/",
          "height": 277
        },
        "id": "i0wtscKNFmBq",
        "outputId": "cabb5b97-e8c8-44f6-9582-28ad16d23fd1"
      },
      "source": [
        "from IPython.display import display\n",
        "\n",
        "def add_fake_mask(input, label, loss_function, model):\n",
        "    epsilon = 0.05\n",
        "    model.train()\n",
        "    input.requires_grad = True\n",
        "    output = model(input)\n",
        "    loss = loss_function(output, label)\n",
        "    # search for the usage of retain_graph if needed\n",
        "    loss.backward(retain_graph = True)\n",
        "    return torch.sign(input.grad) * epsilon\n",
        "\n",
        "adversarial_mask = add_fake_mask(img_tensor, target, torch.nn.CrossEntropyLoss(), my_model)\n",
        "adversarial_image = adversarial_mask + img_tensor\n",
        "\n",
        "# display the misleading image\n",
        "display(transforms.ToPILImage()(adversarial_image.squeeze()))\n",
        "# check the new output\n",
        "my_model.eval()\n",
        "prediction = my_model(adversarial_image)\n",
        "pred_probabilities = F.softmax(prediction, dim = 1).data.squeeze()\n",
        "print(\"after breaking, the output result is\")\n",
        "target = torch.topk(pred_probabilities, 1)[1]\n",
        "# check https://gist.github.com/yrevar/942d3a0ac09ec9e5eb3a for the output category\n",
        "print(target.item())"
      ],
      "execution_count": null,
      "outputs": [
        {
          "output_type": "display_data",
          "data": {
            "image/png": "[encoded data removed]",
            "text/plain": [
              "<PIL.Image.Image image mode=RGB size=224x224 at 0x7FEC2BE4BB90>"
            ]
          },
          "metadata": {}
        },
        {
          "output_type": "stream",
          "text": [
            "after breaking, the output result is\n",
            "794\n"
          ],
          "name": "stdout"
        }
      ]
    },
    {
      "cell_type": "markdown",
      "metadata": {
        "id": "hgGUb_W21sas"
      },
      "source": [
        "FastBERT is a python library to take advantage of the famous BERT model (from Google, a transformer based, large scale model) and can be applied to the text classification test in Chapter 5."
      ]
    },
    {
      "cell_type": "code",
      "metadata": {
        "colab": {
          "base_uri": "https://localhost:8080/"
        },
        "id": "bQe5eHgsrD2H",
        "outputId": "070d5891-6ed2-48f9-8b5d-d20236687c7a"
      },
      "source": [
        "!pip install fast-bert"
      ],
      "execution_count": 5,
      "outputs": [
        {
          "output_type": "stream",
          "text": [
            "Collecting fast-bert\n",
            "  Downloading fast_bert-1.9.9-py3-none-any.whl (99 kB)\n",
            "\u001b[?25l\r\u001b[K     |███▎                            | 10 kB 26.6 MB/s eta 0:00:01\r\u001b[K     |██████▋                         | 20 kB 30.3 MB/s eta 0:00:01\r\u001b[K     |█████████▉                      | 30 kB 34.5 MB/s eta 0:00:01\r\u001b[K     |█████████████▏                  | 40 kB 33.7 MB/s eta 0:00:01\r\u001b[K     |████████████████▌               | 51 kB 15.3 MB/s eta 0:00:01\r\u001b[K     |███████████████████▊            | 61 kB 10.7 MB/s eta 0:00:01\r\u001b[K     |███████████████████████         | 71 kB 11.3 MB/s eta 0:00:01\r\u001b[K     |██████████████████████████▎     | 81 kB 12.5 MB/s eta 0:00:01\r\u001b[K     |█████████████████████████████▋  | 92 kB 11.8 MB/s eta 0:00:01\r\u001b[K     |████████████████████████████████| 99 kB 5.7 MB/s \n",
            "\u001b[?25hRequirement already satisfied: spacy in /usr/local/lib/python3.7/dist-packages (from fast-bert) (2.2.4)\n",
            "Collecting pytorch-lamb\n",
            "  Downloading pytorch_lamb-1.0.0-py3-none-any.whl (4.4 kB)\n",
            "Collecting python-box\n",
            "  Downloading python_box-5.4.1-py3-none-any.whl (21 kB)\n",
            "Requirement already satisfied: fastprogress in /usr/local/lib/python3.7/dist-packages (from fast-bert) (1.0.0)\n",
            "Collecting tensorboardX\n",
            "  Downloading tensorboardX-2.4-py2.py3-none-any.whl (124 kB)\n",
            "\u001b[K     |████████████████████████████████| 124 kB 52.2 MB/s \n",
            "\u001b[?25hCollecting tokenizers==0.8.1.rc1\n",
            "  Downloading tokenizers-0.8.1rc1-cp37-cp37m-manylinux1_x86_64.whl (3.0 MB)\n",
            "\u001b[K     |████████████████████████████████| 3.0 MB 46.5 MB/s \n",
            "\u001b[?25hCollecting seqeval\n",
            "  Downloading seqeval-1.2.2.tar.gz (43 kB)\n",
            "\u001b[K     |████████████████████████████████| 43 kB 2.2 MB/s \n",
            "\u001b[?25hCollecting transformers==3.0.2\n",
            "  Downloading transformers-3.0.2-py3-none-any.whl (769 kB)\n",
            "\u001b[K     |████████████████████████████████| 769 kB 37.7 MB/s \n",
            "\u001b[?25hRequirement already satisfied: matplotlib in /usr/local/lib/python3.7/dist-packages (from fast-bert) (3.2.2)\n",
            "Requirement already satisfied: sklearn in /usr/local/lib/python3.7/dist-packages (from fast-bert) (0.0)\n",
            "Requirement already satisfied: pandas in /usr/local/lib/python3.7/dist-packages (from fast-bert) (1.1.5)\n",
            "Requirement already satisfied: more-itertools in /usr/local/lib/python3.7/dist-packages (from fast-bert) (8.8.0)\n",
            "Requirement already satisfied: numpy in /usr/local/lib/python3.7/dist-packages (from transformers==3.0.2->fast-bert) (1.19.5)\n",
            "Requirement already satisfied: packaging in /usr/local/lib/python3.7/dist-packages (from transformers==3.0.2->fast-bert) (21.0)\n",
            "Requirement already satisfied: regex!=2019.12.17 in /usr/local/lib/python3.7/dist-packages (from transformers==3.0.2->fast-bert) (2019.12.20)\n",
            "Collecting sacremoses\n",
            "  Downloading sacremoses-0.0.45-py3-none-any.whl (895 kB)\n",
            "\u001b[K     |████████████████████████████████| 895 kB 36.7 MB/s \n",
            "\u001b[?25hRequirement already satisfied: requests in /usr/local/lib/python3.7/dist-packages (from transformers==3.0.2->fast-bert) (2.23.0)\n",
            "Requirement already satisfied: tqdm>=4.27 in /usr/local/lib/python3.7/dist-packages (from transformers==3.0.2->fast-bert) (4.62.0)\n",
            "Requirement already satisfied: filelock in /usr/local/lib/python3.7/dist-packages (from transformers==3.0.2->fast-bert) (3.0.12)\n",
            "Collecting sentencepiece!=0.1.92\n",
            "  Downloading sentencepiece-0.1.96-cp37-cp37m-manylinux_2_17_x86_64.manylinux2014_x86_64.whl (1.2 MB)\n",
            "\u001b[K     |████████████████████████████████| 1.2 MB 29.4 MB/s \n",
            "\u001b[?25hRequirement already satisfied: cycler>=0.10 in /usr/local/lib/python3.7/dist-packages (from matplotlib->fast-bert) (0.10.0)\n",
            "Requirement already satisfied: python-dateutil>=2.1 in /usr/local/lib/python3.7/dist-packages (from matplotlib->fast-bert) (2.8.2)\n",
            "Requirement already satisfied: pyparsing!=2.0.4,!=2.1.2,!=2.1.6,>=2.0.1 in /usr/local/lib/python3.7/dist-packages (from matplotlib->fast-bert) (2.4.7)\n",
            "Requirement already satisfied: kiwisolver>=1.0.1 in /usr/local/lib/python3.7/dist-packages (from matplotlib->fast-bert) (1.3.1)\n",
            "Requirement already satisfied: six in /usr/local/lib/python3.7/dist-packages (from cycler>=0.10->matplotlib->fast-bert) (1.15.0)\n",
            "Requirement already satisfied: pytz>=2017.2 in /usr/local/lib/python3.7/dist-packages (from pandas->fast-bert) (2018.9)\n",
            "Requirement already satisfied: torchvision in /usr/local/lib/python3.7/dist-packages (from pytorch-lamb->fast-bert) (0.10.0+cu102)\n",
            "Requirement already satisfied: torch>=0.4.1 in /usr/local/lib/python3.7/dist-packages (from pytorch-lamb->fast-bert) (1.9.0+cu102)\n",
            "Requirement already satisfied: typing-extensions in /usr/local/lib/python3.7/dist-packages (from torch>=0.4.1->pytorch-lamb->fast-bert) (3.7.4.3)\n",
            "Requirement already satisfied: chardet<4,>=3.0.2 in /usr/local/lib/python3.7/dist-packages (from requests->transformers==3.0.2->fast-bert) (3.0.4)\n",
            "Requirement already satisfied: urllib3!=1.25.0,!=1.25.1,<1.26,>=1.21.1 in /usr/local/lib/python3.7/dist-packages (from requests->transformers==3.0.2->fast-bert) (1.24.3)\n",
            "Requirement already satisfied: idna<3,>=2.5 in /usr/local/lib/python3.7/dist-packages (from requests->transformers==3.0.2->fast-bert) (2.10)\n",
            "Requirement already satisfied: certifi>=2017.4.17 in /usr/local/lib/python3.7/dist-packages (from requests->transformers==3.0.2->fast-bert) (2021.5.30)\n",
            "Requirement already satisfied: click in /usr/local/lib/python3.7/dist-packages (from sacremoses->transformers==3.0.2->fast-bert) (7.1.2)\n",
            "Requirement already satisfied: joblib in /usr/local/lib/python3.7/dist-packages (from sacremoses->transformers==3.0.2->fast-bert) (1.0.1)\n",
            "Requirement already satisfied: scikit-learn>=0.21.3 in /usr/local/lib/python3.7/dist-packages (from seqeval->fast-bert) (0.22.2.post1)\n",
            "Requirement already satisfied: scipy>=0.17.0 in /usr/local/lib/python3.7/dist-packages (from scikit-learn>=0.21.3->seqeval->fast-bert) (1.4.1)\n",
            "Requirement already satisfied: plac<1.2.0,>=0.9.6 in /usr/local/lib/python3.7/dist-packages (from spacy->fast-bert) (1.1.3)\n",
            "Requirement already satisfied: thinc==7.4.0 in /usr/local/lib/python3.7/dist-packages (from spacy->fast-bert) (7.4.0)\n",
            "Requirement already satisfied: catalogue<1.1.0,>=0.0.7 in /usr/local/lib/python3.7/dist-packages (from spacy->fast-bert) (1.0.0)\n",
            "Requirement already satisfied: murmurhash<1.1.0,>=0.28.0 in /usr/local/lib/python3.7/dist-packages (from spacy->fast-bert) (1.0.5)\n",
            "Requirement already satisfied: srsly<1.1.0,>=1.0.2 in /usr/local/lib/python3.7/dist-packages (from spacy->fast-bert) (1.0.5)\n",
            "Requirement already satisfied: setuptools in /usr/local/lib/python3.7/dist-packages (from spacy->fast-bert) (57.4.0)\n",
            "Requirement already satisfied: preshed<3.1.0,>=3.0.2 in /usr/local/lib/python3.7/dist-packages (from spacy->fast-bert) (3.0.5)\n",
            "Requirement already satisfied: cymem<2.1.0,>=2.0.2 in /usr/local/lib/python3.7/dist-packages (from spacy->fast-bert) (2.0.5)\n",
            "Requirement already satisfied: wasabi<1.1.0,>=0.4.0 in /usr/local/lib/python3.7/dist-packages (from spacy->fast-bert) (0.8.2)\n",
            "Requirement already satisfied: blis<0.5.0,>=0.4.0 in /usr/local/lib/python3.7/dist-packages (from spacy->fast-bert) (0.4.1)\n",
            "Requirement already satisfied: importlib-metadata>=0.20 in /usr/local/lib/python3.7/dist-packages (from catalogue<1.1.0,>=0.0.7->spacy->fast-bert) (4.6.4)\n",
            "Requirement already satisfied: zipp>=0.5 in /usr/local/lib/python3.7/dist-packages (from importlib-metadata>=0.20->catalogue<1.1.0,>=0.0.7->spacy->fast-bert) (3.5.0)\n",
            "Requirement already satisfied: protobuf>=3.8.0 in /usr/local/lib/python3.7/dist-packages (from tensorboardX->fast-bert) (3.17.3)\n",
            "Requirement already satisfied: pillow>=5.3.0 in /usr/local/lib/python3.7/dist-packages (from torchvision->pytorch-lamb->fast-bert) (7.1.2)\n",
            "Building wheels for collected packages: seqeval\n",
            "  Building wheel for seqeval (setup.py) ... \u001b[?25l\u001b[?25hdone\n",
            "  Created wheel for seqeval: filename=seqeval-1.2.2-py3-none-any.whl size=16181 sha256=e4656762a84820ffde03d28c252886ad666dd100c2d435c381671c770149d5cc\n",
            "  Stored in directory: /root/.cache/pip/wheels/05/96/ee/7cac4e74f3b19e3158dce26a20a1c86b3533c43ec72a549fd7\n",
            "Successfully built seqeval\n",
            "Installing collected packages: tokenizers, tensorboardX, sentencepiece, sacremoses, transformers, seqeval, pytorch-lamb, python-box, fast-bert\n",
            "Successfully installed fast-bert-1.9.9 python-box-5.4.1 pytorch-lamb-1.0.0 sacremoses-0.0.45 sentencepiece-0.1.96 seqeval-1.2.2 tensorboardX-2.4 tokenizers-0.8.1rc1 transformers-3.0.2\n"
          ],
          "name": "stdout"
        }
      ]
    },
    {
      "cell_type": "markdown",
      "metadata": {
        "id": "6CznSvjV09A7"
      },
      "source": [
        "In Google Drive, create a new folder named \"bert_test\" and copy the train-processed-sample.csv from Chapter \"Text_Classification\" into it."
      ]
    },
    {
      "cell_type": "code",
      "metadata": {
        "id": "v1zzqZjRyFm0"
      },
      "source": [
        "import pandas as pd\n",
        "import numpy as np\n",
        "\n",
        "workspace_path = \"./drive/MyDrive/bert_test\"\n",
        "file_path = workspace_path + \"/train-processed-sample.csv\"\n",
        "\n",
        "df = pd.read_csv(file_path, encoding='latin-1')\n",
        "df = df.drop(df.columns[[0, 1, 2, 3, 4, 6]], axis=1)\n",
        "df.columns = ['text', 'label']\n",
        "\n",
        "np.random.seed(0)\n",
        "train, val, test = np.split(df.sample(frac=1), [int(.6*len(df)), int(.8*len(df))])\n",
        "\n",
        "train_file_name = \"train.csv\"\n",
        "val_file_name = \"val.csv\"\n",
        "test_file_name = \"test.csv\"\n",
        "label_file_name = \"labels.csv\"\n",
        "\n",
        "train.to_csv(workspace_path + \"/\" + train_file_name, index=False)\n",
        "val.to_csv(workspace_path + \"/\" + val_file_name, index=False)\n",
        "test.to_csv(workspace_path + \"/\" + test_file_name, index=False)\n",
        "\n",
        "labels = pd.DataFrame(df.label.unique())\n",
        "labels.to_csv(workspace_path + \"/\" + label_file_name, header=False, index=False)"
      ],
      "execution_count": 6,
      "outputs": []
    },
    {
      "cell_type": "code",
      "metadata": {
        "id": "bancln95rGC1",
        "colab": {
          "base_uri": "https://localhost:8080/",
          "height": 433
        },
        "outputId": "b7c61af5-a231-4f8f-85ae-63440d3a5101"
      },
      "source": [
        "import torch\n",
        "import logging\n",
        "\n",
        "from transformers import BertTokenizer\n",
        "from fast_bert.data_cls import BertDataBunch\n",
        "from fast_bert.learner_cls import BertLearner\n",
        "from fast_bert.metrics import accuracy\n",
        "\n",
        "device = torch.device(\"cuda\")\n",
        "logger = logging.getLogger()\n",
        "metrics = [{\"name\" : \"accuracy\", \"function\" : accuracy}]\n",
        "\n",
        "model_type = \"bert-base-uncased\"\n",
        "tokenizer = BertTokenizer.from_pretrained(\n",
        "    model_type, do_lower_case = True\n",
        ")\n",
        "databunch = BertDataBunch(\n",
        "    workspace_path,\n",
        "    workspace_path,\n",
        "    tokenizer,\n",
        "    train_file_name,\n",
        "    val_file_name,\n",
        "    test_file_name,\n",
        "    text_col = 0,\n",
        "    label_col = 1,\n",
        "    batch_size_per_gpu = 32,\n",
        "    max_seq_length = 140,\n",
        "    multi_gpu = False,\n",
        "    multi_label = False,\n",
        "    model_type = \"bert\"\n",
        ")\n",
        "\n",
        "learner = BertLearner.from_pretrained_model(\n",
        "    databunch,\n",
        "    model_type,\n",
        "    metrics = metrics,\n",
        "    device = device,\n",
        "    logger = logger,\n",
        "    output_dir = workspace_path,\n",
        "    is_fp16 = False,\n",
        "    multi_gpu = False,\n",
        "    multi_label = False\n",
        ")\n",
        "# start training, note it could take quite long for a single epoch to run\n",
        "learner.fit(3, lr = 1e-2)"
      ],
      "execution_count": 13,
      "outputs": [
        {
          "output_type": "stream",
          "text": [
            "Some weights of the model checkpoint at bert-base-uncased were not used when initializing BertForSequenceClassification: ['cls.predictions.bias', 'cls.predictions.transform.dense.weight', 'cls.predictions.transform.dense.bias', 'cls.predictions.decoder.weight', 'cls.seq_relationship.weight', 'cls.seq_relationship.bias', 'cls.predictions.transform.LayerNorm.weight', 'cls.predictions.transform.LayerNorm.bias']\n",
            "- This IS expected if you are initializing BertForSequenceClassification from the checkpoint of a model trained on another task or with another architecture (e.g. initializing a BertForSequenceClassification model from a BertForPretraining model).\n",
            "- This IS NOT expected if you are initializing BertForSequenceClassification from the checkpoint of a model that you expect to be exactly identical (initializing a BertForSequenceClassification model from a BertForSequenceClassification model).\n",
            "Some weights of BertForSequenceClassification were not initialized from the model checkpoint at bert-base-uncased and are newly initialized: ['classifier.weight', 'classifier.bias']\n",
            "You should probably TRAIN this model on a down-stream task to be able to use it for predictions and inference.\n"
          ],
          "name": "stderr"
        },
        {
          "output_type": "display_data",
          "data": {
            "text/html": [
              ""
            ],
            "text/plain": [
              "<IPython.core.display.HTML object>"
            ]
          },
          "metadata": {}
        },
        {
          "output_type": "stream",
          "text": [
            "/usr/local/lib/python3.7/dist-packages/pytorch_lamb/lamb.py:96: UserWarning: This overload of add_ is deprecated:\n",
            "\tadd_(Number alpha, Tensor other)\n",
            "Consider using one of the following signatures instead:\n",
            "\tadd_(Tensor other, *, Number alpha) (Triggered internally at  /pytorch/torch/csrc/utils/python_arg_parser.cpp:1025.)\n",
            "  exp_avg.mul_(beta1).add_(1 - beta1, grad)\n"
          ],
          "name": "stderr"
        },
        {
          "output_type": "display_data",
          "data": {
            "text/html": [
              "\n",
              "    <div>\n",
              "        <style>\n",
              "            /* Turns off some styling */\n",
              "            progress {\n",
              "                /* gets rid of default border in Firefox and Opera. */\n",
              "                border: none;\n",
              "                /* Needs to be in here for Safari polyfill so background images work as expected. */\n",
              "                background-size: auto;\n",
              "            }\n",
              "            .progress-bar-interrupted, .progress-bar-interrupted::-webkit-progress-bar {\n",
              "                background: #F44336;\n",
              "            }\n",
              "        </style>\n",
              "      <progress value='32' class='' max='32' style='width:300px; height:20px; vertical-align: middle;'></progress>\n",
              "      100.00% [32/32 00:30<00:00]\n",
              "    </div>\n",
              "    "
            ],
            "text/plain": [
              "<IPython.core.display.HTML object>"
            ]
          },
          "metadata": {}
        },
        {
          "output_type": "stream",
          "text": [
            "/usr/local/lib/python3.7/dist-packages/torch/optim/lr_scheduler.py:247: UserWarning: To get the last learning rate computed by the scheduler, please use `get_last_lr()`.\n",
            "  warnings.warn(\"To get the last learning rate computed by the scheduler, \"\n"
          ],
          "name": "stderr"
        },
        {
          "output_type": "display_data",
          "data": {
            "text/html": [
              "\n",
              "    <div>\n",
              "        <style>\n",
              "            /* Turns off some styling */\n",
              "            progress {\n",
              "                /* gets rid of default border in Firefox and Opera. */\n",
              "                border: none;\n",
              "                /* Needs to be in here for Safari polyfill so background images work as expected. */\n",
              "                background-size: auto;\n",
              "            }\n",
              "            .progress-bar-interrupted, .progress-bar-interrupted::-webkit-progress-bar {\n",
              "                background: #F44336;\n",
              "            }\n",
              "        </style>\n",
              "      <progress value='32' class='' max='32' style='width:300px; height:20px; vertical-align: middle;'></progress>\n",
              "      100.00% [32/32 00:30<00:00]\n",
              "    </div>\n",
              "    "
            ],
            "text/plain": [
              "<IPython.core.display.HTML object>"
            ]
          },
          "metadata": {}
        },
        {
          "output_type": "display_data",
          "data": {
            "text/html": [
              "\n",
              "    <div>\n",
              "        <style>\n",
              "            /* Turns off some styling */\n",
              "            progress {\n",
              "                /* gets rid of default border in Firefox and Opera. */\n",
              "                border: none;\n",
              "                /* Needs to be in here for Safari polyfill so background images work as expected. */\n",
              "                background-size: auto;\n",
              "            }\n",
              "            .progress-bar-interrupted, .progress-bar-interrupted::-webkit-progress-bar {\n",
              "                background: #F44336;\n",
              "            }\n",
              "        </style>\n",
              "      <progress value='32' class='' max='32' style='width:300px; height:20px; vertical-align: middle;'></progress>\n",
              "      100.00% [32/32 00:30<00:00]\n",
              "    </div>\n",
              "    "
            ],
            "text/plain": [
              "<IPython.core.display.HTML object>"
            ]
          },
          "metadata": {}
        },
        {
          "output_type": "display_data",
          "data": {
            "text/html": [
              "\n",
              "    <div>\n",
              "        <style>\n",
              "            /* Turns off some styling */\n",
              "            progress {\n",
              "                /* gets rid of default border in Firefox and Opera. */\n",
              "                border: none;\n",
              "                /* Needs to be in here for Safari polyfill so background images work as expected. */\n",
              "                background-size: auto;\n",
              "            }\n",
              "            .progress-bar-interrupted, .progress-bar-interrupted::-webkit-progress-bar {\n",
              "                background: #F44336;\n",
              "            }\n",
              "        </style>\n",
              "      <progress value='32' class='' max='32' style='width:300px; height:20px; vertical-align: middle;'></progress>\n",
              "      100.00% [32/32 00:30<00:00]\n",
              "    </div>\n",
              "    "
            ],
            "text/plain": [
              "<IPython.core.display.HTML object>"
            ]
          },
          "metadata": {}
        },
        {
          "output_type": "display_data",
          "data": {
            "text/html": [
              "\n",
              "    <div>\n",
              "        <style>\n",
              "            /* Turns off some styling */\n",
              "            progress {\n",
              "                /* gets rid of default border in Firefox and Opera. */\n",
              "                border: none;\n",
              "                /* Needs to be in here for Safari polyfill so background images work as expected. */\n",
              "                background-size: auto;\n",
              "            }\n",
              "            .progress-bar-interrupted, .progress-bar-interrupted::-webkit-progress-bar {\n",
              "                background: #F44336;\n",
              "            }\n",
              "        </style>\n",
              "      <progress value='32' class='' max='32' style='width:300px; height:20px; vertical-align: middle;'></progress>\n",
              "      100.00% [32/32 00:30<00:00]\n",
              "    </div>\n",
              "    "
            ],
            "text/plain": [
              "<IPython.core.display.HTML object>"
            ]
          },
          "metadata": {}
        },
        {
          "output_type": "display_data",
          "data": {
            "text/html": [
              "\n",
              "    <div>\n",
              "        <style>\n",
              "            /* Turns off some styling */\n",
              "            progress {\n",
              "                /* gets rid of default border in Firefox and Opera. */\n",
              "                border: none;\n",
              "                /* Needs to be in here for Safari polyfill so background images work as expected. */\n",
              "                background-size: auto;\n",
              "            }\n",
              "            .progress-bar-interrupted, .progress-bar-interrupted::-webkit-progress-bar {\n",
              "                background: #F44336;\n",
              "            }\n",
              "        </style>\n",
              "      <progress value='32' class='' max='32' style='width:300px; height:20px; vertical-align: middle;'></progress>\n",
              "      100.00% [32/32 00:30<00:00]\n",
              "    </div>\n",
              "    "
            ],
            "text/plain": [
              "<IPython.core.display.HTML object>"
            ]
          },
          "metadata": {}
        },
        {
          "output_type": "display_data",
          "data": {
            "text/html": [
              "\n",
              "    <div>\n",
              "        <style>\n",
              "            /* Turns off some styling */\n",
              "            progress {\n",
              "                /* gets rid of default border in Firefox and Opera. */\n",
              "                border: none;\n",
              "                /* Needs to be in here for Safari polyfill so background images work as expected. */\n",
              "                background-size: auto;\n",
              "            }\n",
              "            .progress-bar-interrupted, .progress-bar-interrupted::-webkit-progress-bar {\n",
              "                background: #F44336;\n",
              "            }\n",
              "        </style>\n",
              "      <progress value='32' class='' max='32' style='width:300px; height:20px; vertical-align: middle;'></progress>\n",
              "      100.00% [32/32 00:30<00:00]\n",
              "    </div>\n",
              "    "
            ],
            "text/plain": [
              "<IPython.core.display.HTML object>"
            ]
          },
          "metadata": {}
        },
        {
          "output_type": "display_data",
          "data": {
            "text/html": [
              "\n",
              "    <div>\n",
              "        <style>\n",
              "            /* Turns off some styling */\n",
              "            progress {\n",
              "                /* gets rid of default border in Firefox and Opera. */\n",
              "                border: none;\n",
              "                /* Needs to be in here for Safari polyfill so background images work as expected. */\n",
              "                background-size: auto;\n",
              "            }\n",
              "            .progress-bar-interrupted, .progress-bar-interrupted::-webkit-progress-bar {\n",
              "                background: #F44336;\n",
              "            }\n",
              "        </style>\n",
              "      <progress value='32' class='' max='32' style='width:300px; height:20px; vertical-align: middle;'></progress>\n",
              "      100.00% [32/32 00:30<00:00]\n",
              "    </div>\n",
              "    "
            ],
            "text/plain": [
              "<IPython.core.display.HTML object>"
            ]
          },
          "metadata": {}
        },
        {
          "output_type": "execute_result",
          "data": {
            "text/plain": [
              "(564, 0.6982564772908569)"
            ]
          },
          "metadata": {},
          "execution_count": 13
        }
      ]
    },
    {
      "cell_type": "markdown",
      "metadata": {
        "id": "sZ_51mfa1wbE"
      },
      "source": [
        "GPT-2 is a nice model from OpenAI and shows ability to \"create incredibly realistic text\". The process to reproduce the text generation task result has high dependence on libraries out of PyTorch, so we will skip this part. The example can be observed here https://deepai.org/machine-learning-model/text-generator."
      ]
    },
    {
      "cell_type": "markdown",
      "metadata": {
        "id": "qXNRN_TmEO6w"
      },
      "source": [
        "Another popular model in text classification is ULMFit. The example is based on fast.ai, which is a deep-learning library that will be covered in another book. ULMFit has comparable performance to BERT in text classification, with a smaller scale."
      ]
    }
  ]
}