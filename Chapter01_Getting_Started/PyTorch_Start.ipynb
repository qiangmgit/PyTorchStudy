{
  "nbformat": 4,
  "nbformat_minor": 0,
  "metadata": {
    "colab": {
      "name": "PyTorch Start.ipynb",
      "provenance": []
    },
    "kernelspec": {
      "name": "python3",
      "display_name": "Python 3"
    },
    "language_info": {
      "name": "python"
    },
    "accelerator": "GPU"
  },
  "cells": [
    {
      "cell_type": "markdown",
      "metadata": {
        "id": "b66qgwEd8A8x"
      },
      "source": [
        "In Runtime, select Change Runtime type to enable GPU."
      ]
    },
    {
      "cell_type": "markdown",
      "metadata": {
        "id": "1TfSJevG8LdB"
      },
      "source": [
        "Your first PyTorch code;"
      ]
    },
    {
      "cell_type": "code",
      "metadata": {
        "colab": {
          "base_uri": "https://localhost:8080/"
        },
        "id": "4dSxgbYK7hTF",
        "outputId": "d3c6247b-c22d-4c34-9c89-e6d6cc02680b"
      },
      "source": [
        "import torch\n",
        "print(\"CUDA availability:\")\n",
        "print(torch.cuda.is_available())\n",
        "print(\"New tensor:\")\n",
        "print(torch.rand(2,2))"
      ],
      "execution_count": 25,
      "outputs": [
        {
          "output_type": "stream",
          "text": [
            "CUDA availability:\n",
            "True\n",
            "New tensor\n",
            "tensor([[0.4835, 0.3727],\n",
            "        [0.7937, 0.4305]])\n"
          ],
          "name": "stdout"
        }
      ]
    },
    {
      "cell_type": "markdown",
      "metadata": {
        "id": "fvu9Pjxy8N2J"
      },
      "source": [
        "Tensor initial code\n"
      ]
    },
    {
      "cell_type": "code",
      "metadata": {
        "id": "RT1ix-S379np",
        "colab": {
          "base_uri": "https://localhost:8080/"
        },
        "outputId": "f56ae83f-7609-4bbb-93af-dfa16cc1138e"
      },
      "source": [
        "import torch\n",
        "print(\"New tensor:\")\n",
        "x = torch.tensor([[0, 0, 1], [1, 1, 1], [0, 0, 0]])\n",
        "print(x)\n",
        "\n",
        "print(\"Single value operation:\")\n",
        "x[0][0] = 5\n",
        "print(x)\n",
        "\n",
        "print(\"Zero tensor:\")\n",
        "x = torch.zeros(2, 2)\n",
        "print(x)\n",
        "\n",
        "print(\"Tensor Sum:\")\n",
        "x = torch.ones(1, 2) + torch.ones(1, 2)\n",
        "print(x)\n",
        "\n",
        "# use item to get 1d value\n",
        "print(\"Get 1d value:\")\n",
        "x= torch.rand(1).item()\n",
        "print(x)\n",
        "\n",
        "# check tensor storage memory type\n",
        "print(\"Check tensor storage memory type\")\n",
        "cpu_tensor = torch.rand(2)\n",
        "print(cpu_tensor.device)\n",
        "gpu_tensor = cpu_tensor.to(\"cuda\")\n",
        "print(gpu_tensor.device)"
      ],
      "execution_count": 26,
      "outputs": [
        {
          "output_type": "stream",
          "text": [
            "New tensor:\n",
            "tensor([[0, 0, 1],\n",
            "        [1, 1, 1],\n",
            "        [0, 0, 0]])\n",
            "Single value operation:\n",
            "tensor([[5, 0, 1],\n",
            "        [1, 1, 1],\n",
            "        [0, 0, 0]])\n",
            "Zero tensor:\n",
            "tensor([[0., 0.],\n",
            "        [0., 0.]])\n",
            "Tensor Sum:\n",
            "tensor([[2., 2.]])\n",
            "Get 1d value:\n",
            "0.9706895351409912\n",
            "check tensor storage memory type\n",
            "cpu\n",
            "cuda:0\n"
          ],
          "name": "stdout"
        }
      ]
    },
    {
      "cell_type": "markdown",
      "metadata": {
        "id": "ezYNtAlTdv0Y"
      },
      "source": [
        "Basic Tensor Operations"
      ]
    },
    {
      "cell_type": "code",
      "metadata": {
        "id": "q4ZYPrfQ7kda",
        "colab": {
          "base_uri": "https://localhost:8080/"
        },
        "outputId": "18670be7-4f2b-4543-8617-4610f9e21e89"
      },
      "source": [
        "import torch\n",
        "print(\"Max:\")\n",
        "x = torch.rand(2, 2).max()\n",
        "print(x)\n",
        "print(x.item())\n",
        "\n",
        "# data type\n",
        "print(\"Check data type:\")\n",
        "long_tensor = torch.tensor([[0, 0, 1], [1, 1, 1], [0, 0, 0]])\n",
        "print(long_tensor.type())\n",
        "float_tensor = long_tensor.to(dtype=torch.float32)\n",
        "print(float_tensor.type())\n",
        "\n",
        "# in-place function (ends with an \"_\") will save the tensor in place after operation\n",
        "print(\"Check in-place function:\")\n",
        "x = torch.rand(2, 2)\n",
        "# check the type to get the object address and see if they are the same\n",
        "print(x.type)\n",
        "print(x.log2().type)\n",
        "print(x.log2_().type)\n",
        "\n",
        "# reshape\n",
        "print(\"Reshape and view:\")\n",
        "x = torch.rand(784)\n",
        "y = x.view(1, 28, 28)\n",
        "print(y.shape)\n",
        "# search for the difference between view() and reshape() if interested\n",
        "z = x.reshape(1, 28, 28)\n",
        "print(z.shape)\n",
        "\n",
        "# permuation\n",
        "print(\"Permutation:\")\n",
        "x = torch.rand(640, 480, 3)\n",
        "y = x.permute(2, 0, 1)\n",
        "print(y.shape)\n",
        "\n",
        "# broadcasting\n",
        "print(\"Broadcasting:\")\n",
        "x = torch.tensor([[1, 0, 0], [0, 1, 0], [0, 0, 1]])\n",
        "y = torch.tensor([1, 2, 3])\n",
        "z = x + y\n",
        "print(z)"
      ],
      "execution_count": 30,
      "outputs": [
        {
          "output_type": "stream",
          "text": [
            "Max:\n",
            "tensor(0.8663)\n",
            "0.8662620186805725\n",
            "Check data type:\n",
            "torch.LongTensor\n",
            "torch.FloatTensor\n",
            "Check in-place function:\n",
            "<built-in method type of Tensor object at 0x7f4a056c3550>\n",
            "<built-in method type of Tensor object at 0x7f4a056c35a0>\n",
            "<built-in method type of Tensor object at 0x7f4a056c3550>\n",
            "Reshape and view:\n",
            "torch.Size([1, 28, 28])\n",
            "torch.Size([1, 28, 28])\n",
            "Permutation:\n",
            "torch.Size([3, 640, 480])\n",
            "Broadcasting:\n",
            "tensor([[2, 2, 3],\n",
            "        [1, 3, 3],\n",
            "        [1, 2, 4]])\n"
          ],
          "name": "stdout"
        }
      ]
    }
  ]
}